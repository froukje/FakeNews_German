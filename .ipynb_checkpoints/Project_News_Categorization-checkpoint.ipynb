{
 "cells": [
  {
   "cell_type": "markdown",
   "metadata": {
    "colab_type": "text",
    "id": "FiHDdCbs2i-s"
   },
   "source": [
    "# Business Understanding\n",
    "\n",
    "**Author:** Frauke Albrecht\n",
    "\n",
    "<div>\n",
    "<img src=\"fake_news_1.jpg\" width=\"500\"/>\n",
    "</div>\n",
    "\n",
    "**Objective:** Detecting fake news and categorize them in German language\n",
    "\n",
    "So called fake news are news that are made up to manipulate people. This strategy is aminly used in the internet and in social media. In today's flood of information it becomes more and more difficult to distinguish fake from real news. An instrument to detect them automatically can help users to filter and classify the information they get. These algorithms are language sensitive and therefore must be developed for each language separately. In this work we consider news in German Language. The dataset contains news from German and Austrian newspapers' websites.\n",
    "An attempt was made to build a machine learning model that detects fake news and a second one which also categorizes them in a certain column. The dataset contains real news and news from satire magazines. The latter can serve to detect fake news as they are similar in their structure.\n",
    "\n",
    "The work has been inspired by: https://medium.com/@andreasstckl/detecting-satire-and-fake-news-with-machine-learning-435695749f79\n"
   ]
  },
  {
   "cell_type": "markdown",
   "metadata": {
    "colab_type": "text",
    "id": "IUx1K0sF2i-t"
   },
   "source": [
    "# Setup"
   ]
  },
  {
   "cell_type": "code",
   "execution_count": 1,
   "metadata": {
    "colab": {
     "base_uri": "https://localhost:8080/",
     "height": 71
    },
    "colab_type": "code",
    "executionInfo": {
     "elapsed": 2148,
     "status": "ok",
     "timestamp": 1587071861700,
     "user": {
      "displayName": "Frauke Albrecht",
      "photoUrl": "https://lh3.googleusercontent.com/a-/AOh14GgX7qGfjnNJgb14d5kLrXf_w09cmXTYfcDYKcVJIA=s64",
      "userId": "00978869982924919157"
     },
     "user_tz": -120
    },
    "id": "bHvHPC392i-u",
    "outputId": "3ba81ae1-bf32-4ea3-de15-89ee24d07fc3"
   },
   "outputs": [],
   "source": [
    "import pandas as pd\n",
    "import numpy as np\n",
    "import matplotlib.pyplot as plt\n",
    "import seaborn as sns\n",
    "from os import path\n",
    "from datetime import datetime\n",
    "from PIL import Image\n",
    "from wordcloud import WordCloud, STOPWORDS, ImageColorGenerator\n",
    "import nltk\n",
    "from nltk.corpus import stopwords\n",
    "import re\n",
    "from sklearn.naive_bayes import GaussianNB\n",
    "from sklearn.feature_extraction.text import CountVectorizer,TfidfTransformer\n",
    "from sklearn.model_selection import train_test_split, cross_val_score, cross_validate, GridSearchCV\n",
    "from sklearn.metrics import precision_recall_curve, confusion_matrix, accuracy_score, classification_report, roc_auc_score, recall_score, precision_score, f1_score\n",
    "from sklearn.metrics import classification_report, confusion_matrix, roc_curve\n",
    "from sklearn.linear_model import LogisticRegression, Lasso\n",
    "from sklearn.ensemble import RandomForestClassifier, AdaBoostClassifier\n",
    "from sklearn.svm import SVC, LinearSVC \n",
    "from sklearn.tree import DecisionTreeClassifier\n",
    "from sklearn.neighbors import KNeighborsClassifier\n",
    "from sklearn.pipeline import Pipeline\n",
    "from xgboost import XGBClassifier"
   ]
  },
  {
   "cell_type": "markdown",
   "metadata": {
    "colab_type": "text",
    "id": "CouT9b062i-x"
   },
   "source": [
    "# Data Mining\n",
    "\n",
    "Source: https://www.kaggle.com/astoeckl/fake-news-dataset-german"
   ]
  },
  {
   "cell_type": "markdown",
   "metadata": {
    "colab_type": "text",
    "id": "6ubOy8X72i-y"
   },
   "source": [
    "# Data Cleaning\n",
    "\n",
    "Read the data and have a look at the head and the tail of the dataframe. The dataframe conatins 8 columns: \n",
    "**url, Titel, Body, Kategorie, Datum, Quelle, Fake and Art** and a total number of 63868 rows. There are 1322 missing values in the column \"Kategorie\" and 40972 in the column \"Art\". Have a further look at the entries to decide how to treat the missing values. The entry \"Titel\" shows doubled entries, further inspection of these show that the entries are identical in the dataframe. These entries are thus deleted. The column \"Kategorie\" is not well defined, we rename misslabeled entries. The meaning of the column \"Art\" is not clear, since it has a lot of missing values, we  won't use it for the predictions and therefore delete it.\n"
   ]
  },
  {
   "cell_type": "code",
   "execution_count": 2,
   "metadata": {
    "colab": {
     "base_uri": "https://localhost:8080/",
     "height": 409
    },
    "colab_type": "code",
    "executionInfo": {
     "elapsed": 2689,
     "status": "error",
     "timestamp": 1587071864600,
     "user": {
      "displayName": "Frauke Albrecht",
      "photoUrl": "https://lh3.googleusercontent.com/a-/AOh14GgX7qGfjnNJgb14d5kLrXf_w09cmXTYfcDYKcVJIA=s64",
      "userId": "00978869982924919157"
     },
     "user_tz": -120
    },
    "id": "HJB0nniw2i-y",
    "outputId": "0f8984cb-0416-4b56-821e-868819353f82"
   },
   "outputs": [
    {
     "name": "stdout",
     "output_type": "stream",
     "text": [
      "(63868, 8)\n"
     ]
    },
    {
     "data": {
      "text/html": [
       "<div>\n",
       "<style scoped>\n",
       "    .dataframe tbody tr th:only-of-type {\n",
       "        vertical-align: middle;\n",
       "    }\n",
       "\n",
       "    .dataframe tbody tr th {\n",
       "        vertical-align: top;\n",
       "    }\n",
       "\n",
       "    .dataframe thead th {\n",
       "        text-align: right;\n",
       "    }\n",
       "</style>\n",
       "<table border=\"1\" class=\"dataframe\">\n",
       "  <thead>\n",
       "    <tr style=\"text-align: right;\">\n",
       "      <th></th>\n",
       "      <th>url</th>\n",
       "      <th>Titel</th>\n",
       "      <th>Body</th>\n",
       "      <th>Kategorie</th>\n",
       "      <th>Datum</th>\n",
       "      <th>Quelle</th>\n",
       "      <th>Fake</th>\n",
       "      <th>Art</th>\n",
       "    </tr>\n",
       "    <tr>\n",
       "      <th>id</th>\n",
       "      <th></th>\n",
       "      <th></th>\n",
       "      <th></th>\n",
       "      <th></th>\n",
       "      <th></th>\n",
       "      <th></th>\n",
       "      <th></th>\n",
       "      <th></th>\n",
       "    </tr>\n",
       "  </thead>\n",
       "  <tbody>\n",
       "    <tr>\n",
       "      <th>773233</th>\n",
       "      <td>http://www.der-postillon.com/2018/01/grokoleak...</td>\n",
       "      <td>Exklusiv! Das geheime WhatsApp-Chat-Protokoll ...</td>\n",
       "      <td>Die Sondierungsgespräche zwischen Union und SP...</td>\n",
       "      <td>wirtschaft</td>\n",
       "      <td>2018-01-18 00:00:00</td>\n",
       "      <td>Postillion</td>\n",
       "      <td>1</td>\n",
       "      <td>NaN</td>\n",
       "    </tr>\n",
       "    <tr>\n",
       "      <th>773234</th>\n",
       "      <td>http://www.der-postillon.com/2018/01/trump-san...</td>\n",
       "      <td>Trump droht, jeden zu verspeisen, der an seine...</td>\n",
       "      <td>Nun ist es auch medizinisch offiziell bestätig...</td>\n",
       "      <td>wirtschaft</td>\n",
       "      <td>2018-01-17 00:00:00</td>\n",
       "      <td>Postillion</td>\n",
       "      <td>1</td>\n",
       "      <td>NaN</td>\n",
       "    </tr>\n",
       "    <tr>\n",
       "      <th>773235</th>\n",
       "      <td>http://www.der-postillon.com/2018/01/fdp-sondi...</td>\n",
       "      <td>Soli runter, keine Steuererhöhungen, kein Klim...</td>\n",
       "      <td>Es waren zähe Verhandlungen, doch die Freien D...</td>\n",
       "      <td>wirtschaft</td>\n",
       "      <td>2018-01-12 00:00:00</td>\n",
       "      <td>Postillion</td>\n",
       "      <td>1</td>\n",
       "      <td>NaN</td>\n",
       "    </tr>\n",
       "    <tr>\n",
       "      <th>773236</th>\n",
       "      <td>http://www.der-postillon.com/2018/01/joachim-s...</td>\n",
       "      <td>Hat sie eine Affäre? Joachim Sauer glaubt Ange...</td>\n",
       "      <td>Wo treibt sie sich immer bis spät in die Nacht...</td>\n",
       "      <td>wirtschaft</td>\n",
       "      <td>2018-01-09 00:00:00</td>\n",
       "      <td>Postillion</td>\n",
       "      <td>1</td>\n",
       "      <td>NaN</td>\n",
       "    </tr>\n",
       "    <tr>\n",
       "      <th>773237</th>\n",
       "      <td>http://www.der-postillon.com/2018/01/halb-so-s...</td>\n",
       "      <td>\"Er hat ja nur HALBneger gesagt\": So begründet...</td>\n",
       "      <td>Der Parteivorstand drückt nochmal ein Auge zu:...</td>\n",
       "      <td>wirtschaft</td>\n",
       "      <td>2018-01-08 00:00:00</td>\n",
       "      <td>Postillion</td>\n",
       "      <td>1</td>\n",
       "      <td>NaN</td>\n",
       "    </tr>\n",
       "  </tbody>\n",
       "</table>\n",
       "</div>"
      ],
      "text/plain": [
       "                                                      url  \\\n",
       "id                                                          \n",
       "773233  http://www.der-postillon.com/2018/01/grokoleak...   \n",
       "773234  http://www.der-postillon.com/2018/01/trump-san...   \n",
       "773235  http://www.der-postillon.com/2018/01/fdp-sondi...   \n",
       "773236  http://www.der-postillon.com/2018/01/joachim-s...   \n",
       "773237  http://www.der-postillon.com/2018/01/halb-so-s...   \n",
       "\n",
       "                                                    Titel  \\\n",
       "id                                                          \n",
       "773233  Exklusiv! Das geheime WhatsApp-Chat-Protokoll ...   \n",
       "773234  Trump droht, jeden zu verspeisen, der an seine...   \n",
       "773235  Soli runter, keine Steuererhöhungen, kein Klim...   \n",
       "773236  Hat sie eine Affäre? Joachim Sauer glaubt Ange...   \n",
       "773237  \"Er hat ja nur HALBneger gesagt\": So begründet...   \n",
       "\n",
       "                                                     Body   Kategorie  \\\n",
       "id                                                                      \n",
       "773233  Die Sondierungsgespräche zwischen Union und SP...  wirtschaft   \n",
       "773234  Nun ist es auch medizinisch offiziell bestätig...  wirtschaft   \n",
       "773235  Es waren zähe Verhandlungen, doch die Freien D...  wirtschaft   \n",
       "773236  Wo treibt sie sich immer bis spät in die Nacht...  wirtschaft   \n",
       "773237  Der Parteivorstand drückt nochmal ein Auge zu:...  wirtschaft   \n",
       "\n",
       "                      Datum      Quelle  Fake  Art  \n",
       "id                                                  \n",
       "773233  2018-01-18 00:00:00  Postillion     1  NaN  \n",
       "773234  2018-01-17 00:00:00  Postillion     1  NaN  \n",
       "773235  2018-01-12 00:00:00  Postillion     1  NaN  \n",
       "773236  2018-01-09 00:00:00  Postillion     1  NaN  \n",
       "773237  2018-01-08 00:00:00  Postillion     1  NaN  "
      ]
     },
     "execution_count": 2,
     "metadata": {},
     "output_type": "execute_result"
    }
   ],
   "source": [
    "# read the data\n",
    "news = pd.read_csv(\"../Data/news.csv\", sep=',',index_col = \"id\")\n",
    "print(news.shape)\n",
    "news.head()"
   ]
  },
  {
   "cell_type": "code",
   "execution_count": 3,
   "metadata": {
    "colab": {
     "base_uri": "https://localhost:8080/",
     "height": 164
    },
    "colab_type": "code",
    "executionInfo": {
     "elapsed": 2107,
     "status": "error",
     "timestamp": 1587071878860,
     "user": {
      "displayName": "Frauke Albrecht",
      "photoUrl": "https://lh3.googleusercontent.com/a-/AOh14GgX7qGfjnNJgb14d5kLrXf_w09cmXTYfcDYKcVJIA=s64",
      "userId": "00978869982924919157"
     },
     "user_tz": -120
    },
    "id": "sK8TyEWq2i-2",
    "outputId": "3e9fdd03-8a59-418a-c22f-df4d70a981b3"
   },
   "outputs": [
    {
     "data": {
      "text/html": [
       "<div>\n",
       "<style scoped>\n",
       "    .dataframe tbody tr th:only-of-type {\n",
       "        vertical-align: middle;\n",
       "    }\n",
       "\n",
       "    .dataframe tbody tr th {\n",
       "        vertical-align: top;\n",
       "    }\n",
       "\n",
       "    .dataframe thead th {\n",
       "        text-align: right;\n",
       "    }\n",
       "</style>\n",
       "<table border=\"1\" class=\"dataframe\">\n",
       "  <thead>\n",
       "    <tr style=\"text-align: right;\">\n",
       "      <th></th>\n",
       "      <th>url</th>\n",
       "      <th>Titel</th>\n",
       "      <th>Body</th>\n",
       "      <th>Kategorie</th>\n",
       "      <th>Datum</th>\n",
       "      <th>Quelle</th>\n",
       "      <th>Fake</th>\n",
       "      <th>Art</th>\n",
       "    </tr>\n",
       "    <tr>\n",
       "      <th>id</th>\n",
       "      <th></th>\n",
       "      <th></th>\n",
       "      <th></th>\n",
       "      <th></th>\n",
       "      <th></th>\n",
       "      <th></th>\n",
       "      <th></th>\n",
       "      <th></th>\n",
       "    </tr>\n",
       "  </thead>\n",
       "  <tbody>\n",
       "    <tr>\n",
       "      <th>838144</th>\n",
       "      <td>http://www.kleinezeitung.at//international/537...</td>\n",
       "      <td>Lehrer entging durch Hochzeit mit Schülerin Ve...</td>\n",
       "      <td>55-Jähriger muss nach Sex mit damals 15-Jährig...</td>\n",
       "      <td>International</td>\n",
       "      <td>2018-02-26 00:00:00</td>\n",
       "      <td>Kleine</td>\n",
       "      <td>0</td>\n",
       "      <td>NaN</td>\n",
       "    </tr>\n",
       "    <tr>\n",
       "      <th>838145</th>\n",
       "      <td>http://www.kleinezeitung.at//wirtschaft/wirtsc...</td>\n",
       "      <td>Warum die Taiwaner Toilettenpapier bunkern</td>\n",
       "      <td>Aus Angst vor Preiserhöhungen bei Klopapier ka...</td>\n",
       "      <td>Wirtschaft</td>\n",
       "      <td>2018-02-26 00:00:00</td>\n",
       "      <td>Kleine</td>\n",
       "      <td>0</td>\n",
       "      <td>NaN</td>\n",
       "    </tr>\n",
       "    <tr>\n",
       "      <th>838146</th>\n",
       "      <td>http://www.kleinezeitung.at//wirtschaft/wirtsc...</td>\n",
       "      <td>Warum die Taiwaner Toilettenpapier bunkern</td>\n",
       "      <td>Aus Angst vor Preiserhöhungen bei Klopapier ka...</td>\n",
       "      <td>Wirtschaft</td>\n",
       "      <td>2018-02-26 00:00:00</td>\n",
       "      <td>Kleine</td>\n",
       "      <td>0</td>\n",
       "      <td>NaN</td>\n",
       "    </tr>\n",
       "    <tr>\n",
       "      <th>838147</th>\n",
       "      <td>http://www.kleinezeitung.at//wirtschaft/wirtsc...</td>\n",
       "      <td>\\r\\nDie neue Premium-Klasse von Samsung\\r\\n   ...</td>\n",
       "      <td>Am Vorabend der Eröffnung des Mobile World Con...</td>\n",
       "      <td>Wirtschaft</td>\n",
       "      <td>2018-02-25 00:00:00</td>\n",
       "      <td>Kleine</td>\n",
       "      <td>0</td>\n",
       "      <td>NaN</td>\n",
       "    </tr>\n",
       "    <tr>\n",
       "      <th>838148</th>\n",
       "      <td>http://www.kleinezeitung.at//kultur/klassik/53...</td>\n",
       "      <td>Dirigent Gustav Kuhn wehrt sich gegen \"haltlos...</td>\n",
       "      <td>Gustav Kuhn, künstlerischer Leiter der Festspi...</td>\n",
       "      <td>Kultur</td>\n",
       "      <td>2018-02-26 00:00:00</td>\n",
       "      <td>Kleine</td>\n",
       "      <td>0</td>\n",
       "      <td>NaN</td>\n",
       "    </tr>\n",
       "  </tbody>\n",
       "</table>\n",
       "</div>"
      ],
      "text/plain": [
       "                                                      url  \\\n",
       "id                                                          \n",
       "838144  http://www.kleinezeitung.at//international/537...   \n",
       "838145  http://www.kleinezeitung.at//wirtschaft/wirtsc...   \n",
       "838146  http://www.kleinezeitung.at//wirtschaft/wirtsc...   \n",
       "838147  http://www.kleinezeitung.at//wirtschaft/wirtsc...   \n",
       "838148  http://www.kleinezeitung.at//kultur/klassik/53...   \n",
       "\n",
       "                                                    Titel  \\\n",
       "id                                                          \n",
       "838144  Lehrer entging durch Hochzeit mit Schülerin Ve...   \n",
       "838145         Warum die Taiwaner Toilettenpapier bunkern   \n",
       "838146         Warum die Taiwaner Toilettenpapier bunkern   \n",
       "838147  \\r\\nDie neue Premium-Klasse von Samsung\\r\\n   ...   \n",
       "838148  Dirigent Gustav Kuhn wehrt sich gegen \"haltlos...   \n",
       "\n",
       "                                                     Body      Kategorie  \\\n",
       "id                                                                         \n",
       "838144  55-Jähriger muss nach Sex mit damals 15-Jährig...  International   \n",
       "838145  Aus Angst vor Preiserhöhungen bei Klopapier ka...     Wirtschaft   \n",
       "838146  Aus Angst vor Preiserhöhungen bei Klopapier ka...     Wirtschaft   \n",
       "838147  Am Vorabend der Eröffnung des Mobile World Con...     Wirtschaft   \n",
       "838148  Gustav Kuhn, künstlerischer Leiter der Festspi...         Kultur   \n",
       "\n",
       "                      Datum  Quelle  Fake  Art  \n",
       "id                                              \n",
       "838144  2018-02-26 00:00:00  Kleine     0  NaN  \n",
       "838145  2018-02-26 00:00:00  Kleine     0  NaN  \n",
       "838146  2018-02-26 00:00:00  Kleine     0  NaN  \n",
       "838147  2018-02-25 00:00:00  Kleine     0  NaN  \n",
       "838148  2018-02-26 00:00:00  Kleine     0  NaN  "
      ]
     },
     "execution_count": 3,
     "metadata": {},
     "output_type": "execute_result"
    }
   ],
   "source": [
    "news.tail()"
   ]
  },
  {
   "cell_type": "code",
   "execution_count": 4,
   "metadata": {
    "colab": {
     "base_uri": "https://localhost:8080/",
     "height": 164
    },
    "colab_type": "code",
    "executionInfo": {
     "elapsed": 2045,
     "status": "error",
     "timestamp": 1587071879233,
     "user": {
      "displayName": "Frauke Albrecht",
      "photoUrl": "https://lh3.googleusercontent.com/a-/AOh14GgX7qGfjnNJgb14d5kLrXf_w09cmXTYfcDYKcVJIA=s64",
      "userId": "00978869982924919157"
     },
     "user_tz": -120
    },
    "id": "G0c7s07I2i-4",
    "outputId": "14621015-47b7-4d13-fc15-fdba7e3825fb"
   },
   "outputs": [
    {
     "name": "stdout",
     "output_type": "stream",
     "text": [
      "<class 'pandas.core.frame.DataFrame'>\n",
      "Int64Index: 63868 entries, 773233 to 838148\n",
      "Data columns (total 8 columns):\n",
      " #   Column     Non-Null Count  Dtype \n",
      "---  ------     --------------  ----- \n",
      " 0   url        63868 non-null  object\n",
      " 1   Titel      63868 non-null  object\n",
      " 2   Body       63868 non-null  object\n",
      " 3   Kategorie  62546 non-null  object\n",
      " 4   Datum      63868 non-null  object\n",
      " 5   Quelle     63868 non-null  object\n",
      " 6   Fake       63868 non-null  int64 \n",
      " 7   Art        22896 non-null  object\n",
      "dtypes: int64(1), object(7)\n",
      "memory usage: 4.4+ MB\n"
     ]
    }
   ],
   "source": [
    "news.info()"
   ]
  },
  {
   "cell_type": "code",
   "execution_count": 5,
   "metadata": {
    "colab": {},
    "colab_type": "code",
    "id": "4VfOanvl2i-8"
   },
   "outputs": [
    {
     "data": {
      "text/plain": [
       "url              0\n",
       "Titel            0\n",
       "Body             0\n",
       "Kategorie     1322\n",
       "Datum            0\n",
       "Quelle           0\n",
       "Fake             0\n",
       "Art          40972\n",
       "dtype: int64"
      ]
     },
     "execution_count": 5,
     "metadata": {},
     "output_type": "execute_result"
    }
   ],
   "source": [
    "# number of missing values in each column\n",
    "news.isna().sum()"
   ]
  },
  {
   "cell_type": "code",
   "execution_count": 6,
   "metadata": {
    "colab": {
     "base_uri": "https://localhost:8080/",
     "height": 164
    },
    "colab_type": "code",
    "executionInfo": {
     "elapsed": 678,
     "status": "error",
     "timestamp": 1587071880703,
     "user": {
      "displayName": "Frauke Albrecht",
      "photoUrl": "https://lh3.googleusercontent.com/a-/AOh14GgX7qGfjnNJgb14d5kLrXf_w09cmXTYfcDYKcVJIA=s64",
      "userId": "00978869982924919157"
     },
     "user_tz": -120
    },
    "id": "doQl2v1L2i--",
    "outputId": "70a59f39-a5d8-4e3f-c28b-a52bfbfea9e3"
   },
   "outputs": [],
   "source": [
    "news.reset_index(inplace=True)"
   ]
  },
  {
   "cell_type": "code",
   "execution_count": 7,
   "metadata": {
    "colab": {
     "base_uri": "https://localhost:8080/",
     "height": 181
    },
    "colab_type": "code",
    "executionInfo": {
     "elapsed": 1520,
     "status": "error",
     "timestamp": 1587071882588,
     "user": {
      "displayName": "Frauke Albrecht",
      "photoUrl": "https://lh3.googleusercontent.com/a-/AOh14GgX7qGfjnNJgb14d5kLrXf_w09cmXTYfcDYKcVJIA=s64",
      "userId": "00978869982924919157"
     },
     "user_tz": -120
    },
    "id": "yQRzQt6x2i_B",
    "outputId": "83cc5778-66c2-450f-c95b-f1933f7ce1ba",
    "scrolled": true
   },
   "outputs": [
    {
     "name": "stdout",
     "output_type": "stream",
     "text": [
      "Length of unique values:63868\n"
     ]
    },
    {
     "data": {
      "text/plain": [
       "array(['http://www.der-postillon.com/2018/01/grokoleaks.html',\n",
       "       'http://www.der-postillon.com/2018/01/trump-sane.html',\n",
       "       'http://www.der-postillon.com/2018/01/fdp-sondierungen.html', ...,\n",
       "       'http://www.kleinezeitung.at//wirtschaft/wirtschaftaufmacher/5378930/Papierpreise_Warum-die-Taiwaner-Toilettenpapier-bunkern',\n",
       "       'http://www.kleinezeitung.at//wirtschaft/wirtschaftktnhp/5378354/Die-neue-PremiumKlasse-von-Samsung_Galaxy-S9-und-S9',\n",
       "       'http://www.kleinezeitung.at//kultur/klassik/5378972/Causa-Festspiele-Erl_Dirigent-Gustav-Kuhn-wehrt-sich-gegen'],\n",
       "      dtype=object)"
      ]
     },
     "execution_count": 7,
     "metadata": {},
     "output_type": "execute_result"
    }
   ],
   "source": [
    "# have a look at the entries of the columns and the number of unique values\n",
    "print(\"Length of unique values:\" + str(len(news[\"url\"].unique())))\n",
    "news[\"url\"].unique()"
   ]
  },
  {
   "cell_type": "code",
   "execution_count": 8,
   "metadata": {
    "colab": {
     "base_uri": "https://localhost:8080/",
     "height": 181
    },
    "colab_type": "code",
    "executionInfo": {
     "elapsed": 919,
     "status": "error",
     "timestamp": 1587071882996,
     "user": {
      "displayName": "Frauke Albrecht",
      "photoUrl": "https://lh3.googleusercontent.com/a-/AOh14GgX7qGfjnNJgb14d5kLrXf_w09cmXTYfcDYKcVJIA=s64",
      "userId": "00978869982924919157"
     },
     "user_tz": -120
    },
    "id": "ArBBHIiF2i_D",
    "outputId": "888fabea-e30e-4781-ab28-2fdb20dd766f"
   },
   "outputs": [
    {
     "name": "stdout",
     "output_type": "stream",
     "text": [
      "Length of unique values:61437\n"
     ]
    },
    {
     "data": {
      "text/plain": [
       "array(['Exklusiv! Das geheime WhatsApp-Chat-Protokoll der GroKo-Sondierungsgespräche',\n",
       "       'Trump droht, jeden zu verspeisen, der an seiner geistigen Gesundheit zweifelt',\n",
       "       'Soli runter, keine Steuererhöhungen, kein Klimaziel! FDP setzt sich in Sondierungen durch',\n",
       "       ..., 'Warum die Taiwaner Toilettenpapier bunkern',\n",
       "       '\\r\\nDie neue Premium-Klasse von Samsung\\r\\n            Galaxy S9 und S9+',\n",
       "       'Dirigent Gustav Kuhn wehrt sich gegen \"haltlose Anschuldigungen\"'],\n",
       "      dtype=object)"
      ]
     },
     "execution_count": 8,
     "metadata": {},
     "output_type": "execute_result"
    }
   ],
   "source": [
    "# have a look at the entries of the columns and the number of unique values\n",
    "print(\"Length of unique values:\" + str(len(news[\"Titel\"].unique())))\n",
    "news[\"Titel\"].unique()"
   ]
  },
  {
   "cell_type": "code",
   "execution_count": 9,
   "metadata": {
    "colab": {
     "base_uri": "https://localhost:8080/",
     "height": 181
    },
    "colab_type": "code",
    "executionInfo": {
     "elapsed": 928,
     "status": "error",
     "timestamp": 1587071886174,
     "user": {
      "displayName": "Frauke Albrecht",
      "photoUrl": "https://lh3.googleusercontent.com/a-/AOh14GgX7qGfjnNJgb14d5kLrXf_w09cmXTYfcDYKcVJIA=s64",
      "userId": "00978869982924919157"
     },
     "user_tz": -120
    },
    "id": "9INgRKnX2i_G",
    "outputId": "5c3e5dde-3f8b-4b7d-cda6-7309f11c5dfd"
   },
   "outputs": [
    {
     "name": "stdout",
     "output_type": "stream",
     "text": [
      "<class 'pandas.core.frame.DataFrame'>\n",
      "Int64Index: 63868 entries, 0 to 63867\n",
      "Data columns (total 9 columns):\n",
      " #   Column     Non-Null Count  Dtype \n",
      "---  ------     --------------  ----- \n",
      " 0   id         63868 non-null  int64 \n",
      " 1   url        63868 non-null  object\n",
      " 2   Titel      63868 non-null  object\n",
      " 3   Body       63868 non-null  object\n",
      " 4   Kategorie  62546 non-null  object\n",
      " 5   Datum      63868 non-null  object\n",
      " 6   Quelle     63868 non-null  object\n",
      " 7   Fake       63868 non-null  int64 \n",
      " 8   Art        22896 non-null  object\n",
      "dtypes: int64(2), object(7)\n",
      "memory usage: 4.9+ MB\n"
     ]
    }
   ],
   "source": [
    "# there are several entries with the same titel, delete duplicated entries\n",
    "news.drop_duplicates(inplace=True)\n",
    "news.info()"
   ]
  },
  {
   "cell_type": "code",
   "execution_count": 10,
   "metadata": {
    "colab": {
     "base_uri": "https://localhost:8080/",
     "height": 181
    },
    "colab_type": "code",
    "executionInfo": {
     "elapsed": 946,
     "status": "error",
     "timestamp": 1587071886590,
     "user": {
      "displayName": "Frauke Albrecht",
      "photoUrl": "https://lh3.googleusercontent.com/a-/AOh14GgX7qGfjnNJgb14d5kLrXf_w09cmXTYfcDYKcVJIA=s64",
      "userId": "00978869982924919157"
     },
     "user_tz": -120
    },
    "id": "Fwhgk0E_2i_J",
    "outputId": "317f570d-3463-480f-c13d-431b36a7960f"
   },
   "outputs": [
    {
     "name": "stdout",
     "output_type": "stream",
     "text": [
      "Length of unique values:35\n"
     ]
    },
    {
     "data": {
      "text/plain": [
       "array(['wirtschaft', 'sport', 'leute', 'medien', 'wissenschaft',\n",
       "       'panorama', 'Weltnachrichten', 'Inlandsnachrichten',\n",
       "       'Unternehmensnachrichten', 'Wirtschaftsnachrichten',\n",
       "       'Marktnachrichten', 'Top-Nachrichten', 'Politik',\n",
       "       'nlandsnachrichten', 'irtschaftsnachrichten', 'eltnachrichten',\n",
       "       'nternehmensnachrichten', 'arktnachrichten', 'op-Nachrichten',\n",
       "       'Wirtschaft', 'Chronik', 'International', 'Kultur', 'Wissen',\n",
       "       'Gesundheit', 'Panorama', nan, 'LEBEN', 'MEDIEN', 'BUSINESS',\n",
       "       'HIGHTECH', 'ADHOC', 'Österreich', 'Sport', 'Leute'], dtype=object)"
      ]
     },
     "execution_count": 10,
     "metadata": {},
     "output_type": "execute_result"
    }
   ],
   "source": [
    "# have a look at the entries of the columns and the number of unique values\n",
    "print(\"Length of unique values:\" + str(len(news[\"Kategorie\"].unique())))\n",
    "news[\"Kategorie\"].unique()"
   ]
  },
  {
   "cell_type": "code",
   "execution_count": 11,
   "metadata": {
    "colab": {
     "base_uri": "https://localhost:8080/",
     "height": 252
    },
    "colab_type": "code",
    "executionInfo": {
     "elapsed": 874,
     "status": "error",
     "timestamp": 1587071888161,
     "user": {
      "displayName": "Frauke Albrecht",
      "photoUrl": "https://lh3.googleusercontent.com/a-/AOh14GgX7qGfjnNJgb14d5kLrXf_w09cmXTYfcDYKcVJIA=s64",
      "userId": "00978869982924919157"
     },
     "user_tz": -120
    },
    "id": "iuRS34VS2i_O",
    "outputId": "6aa604e0-b3c4-46df-f01a-518ade0e1aa7"
   },
   "outputs": [
    {
     "name": "stdout",
     "output_type": "stream",
     "text": [
      "Length of unique values:20\n"
     ]
    },
    {
     "data": {
      "text/plain": [
       "array(['Wirtschaft', 'Sport', 'Leute', 'Medien', 'Wissenschaft',\n",
       "       'Panorama', 'International', 'Inland', 'Business',\n",
       "       'Marktnachrichten', 'Top-Nachrichten', 'Politik', 'Chronik',\n",
       "       'Kultur', 'Gesundheit', nan, 'Leben', 'Hightech', 'Adhock',\n",
       "       'Österreich'], dtype=object)"
      ]
     },
     "execution_count": 11,
     "metadata": {},
     "output_type": "execute_result"
    }
   ],
   "source": [
    "# change names in \"Kategorie\"\n",
    "\n",
    "for i in range(news.shape[0]):\n",
    "    #print(news.loc[i,\"Kategorie\"])\n",
    "    if (news.loc[i,\"Kategorie\"] == 'wirtschaft') or (news.loc[i,\"Kategorie\"] =='Wirtschaftsnachrichten') or (news.loc[i,\"Kategorie\"] == 'irtschaftsnachrichten'):\n",
    "        news.loc[i,\"Kategorie\"] = 'Wirtschaft'\n",
    "    if news.loc[i,\"Kategorie\"] == 'sport':\n",
    "        news.loc[i,\"Kategorie\"] = 'Sport'\n",
    "    if news.loc[i,\"Kategorie\"] == 'leute':\n",
    "        news.loc[i,\"Kategorie\"] = 'Leute'\n",
    "    if (news.loc[i,\"Kategorie\"] == 'medien') or (news.loc[i,\"Kategorie\"] == 'MEDIEN'):\n",
    "        news.loc[i,\"Kategorie\"] = 'Medien'\n",
    "    if (news.loc[i,\"Kategorie\"] == 'wissenschaft') or (news.loc[i,\"Kategorie\"] == 'Wissen'):\n",
    "        news.loc[i,\"Kategorie\"] = 'Wissenschaft'\n",
    "    if news.loc[i,\"Kategorie\"] == 'panorama':\n",
    "        news.loc[i,\"Kategorie\"] = 'Panorama'\n",
    "    if news.loc[i,\"Kategorie\"] == 'wirtschaft':\n",
    "        news.loc[i,\"Kategorie\"] = 'Wirtschaft'\n",
    "    if (news.loc[i,\"Kategorie\"] == 'nlandsnachrichten') or (news.loc[i,\"Kategorie\"] == 'Inlandsnachrichten'):\n",
    "        news.loc[i,\"Kategorie\"] = 'Inland'\n",
    "    if news.loc[i,\"Kategorie\"] == 'eltnachrichten':\n",
    "        news.loc[i,\"Kategorie\"] = 'Weltnachrichten'\n",
    "    if (news.loc[i,\"Kategorie\"] == 'nternehmensnachrichten') or (news.loc[i,\"Kategorie\"] == 'BUSINESS') or (news.loc[i,\"Kategorie\"] == 'Unternehmensnachrichten'): \n",
    "        news.loc[i,\"Kategorie\"] = 'Business'\n",
    "    if news.loc[i,\"Kategorie\"] == 'arktnachrichten':\n",
    "        news.loc[i,\"Kategorie\"] = 'Marktnachrichten'\n",
    "    if news.loc[i,\"Kategorie\"] == 'op-Nachrichten':\n",
    "        news.loc[i,\"Kategorie\"] = 'Top-Nachrichten'\n",
    "    if news.loc[i,\"Kategorie\"] == 'LEBEN':\n",
    "        news.loc[i,\"Kategorie\"] = 'Leben'\n",
    "    if news.loc[i,\"Kategorie\"] == 'HIGHTECH':\n",
    "        news.loc[i,\"Kategorie\"] = 'Hightech'\n",
    "    if news.loc[i,\"Kategorie\"] == 'ADHOC':\n",
    "        news.loc[i,\"Kategorie\"] = 'Adhock'\n",
    "    if news.loc[i,\"Kategorie\"] == 'Weltnachrichten':\n",
    "        news.loc[i,\"Kategorie\"] = 'International'\n",
    "print(\"Length of unique values:\" + str(len(news[\"Kategorie\"].unique())))\n",
    "news[\"Kategorie\"].unique()    "
   ]
  },
  {
   "cell_type": "code",
   "execution_count": 12,
   "metadata": {
    "colab": {
     "base_uri": "https://localhost:8080/",
     "height": 181
    },
    "colab_type": "code",
    "executionInfo": {
     "elapsed": 666,
     "status": "error",
     "timestamp": 1587071888655,
     "user": {
      "displayName": "Frauke Albrecht",
      "photoUrl": "https://lh3.googleusercontent.com/a-/AOh14GgX7qGfjnNJgb14d5kLrXf_w09cmXTYfcDYKcVJIA=s64",
      "userId": "00978869982924919157"
     },
     "user_tz": -120
    },
    "id": "I_iVbYiN2i_T",
    "outputId": "ee640356-3653-4a95-d177-d0b059ac3cf3"
   },
   "outputs": [
    {
     "name": "stdout",
     "output_type": "stream",
     "text": [
      "Length of unique values:3482\n"
     ]
    },
    {
     "data": {
      "text/plain": [
       "array(['2018-01-18 00:00:00', '2018-01-17 00:00:00',\n",
       "       '2018-01-12 00:00:00', ..., '2018-03-02 00:00:00',\n",
       "       '2018-02-17 00:00:00', '2018-02-03 00:00:00'], dtype=object)"
      ]
     },
     "execution_count": 12,
     "metadata": {},
     "output_type": "execute_result"
    }
   ],
   "source": [
    "# have a look at the entries of the columns and the number of unique values\n",
    "print(\"Length of unique values:\" + str(len(news[\"Datum\"].unique())))\n",
    "news[\"Datum\"].unique()"
   ]
  },
  {
   "cell_type": "code",
   "execution_count": 13,
   "metadata": {
    "colab": {
     "base_uri": "https://localhost:8080/",
     "height": 181
    },
    "colab_type": "code",
    "executionInfo": {
     "elapsed": 1132,
     "status": "error",
     "timestamp": 1587071891731,
     "user": {
      "displayName": "Frauke Albrecht",
      "photoUrl": "https://lh3.googleusercontent.com/a-/AOh14GgX7qGfjnNJgb14d5kLrXf_w09cmXTYfcDYKcVJIA=s64",
      "userId": "00978869982924919157"
     },
     "user_tz": -120
    },
    "id": "EiRlbZqU2i_W",
    "outputId": "5391c6a3-2657-4cce-e558-18408906193a"
   },
   "outputs": [
    {
     "name": "stdout",
     "output_type": "stream",
     "text": [
      "Length of unique values:7\n"
     ]
    },
    {
     "data": {
      "text/plain": [
       "array(['Postillion', 'Reuters', 'Tagespresse', 'Zeitspiegel',\n",
       "       'Einezeitung', 'Pressetext', 'Kleine'], dtype=object)"
      ]
     },
     "execution_count": 13,
     "metadata": {},
     "output_type": "execute_result"
    }
   ],
   "source": [
    "# have a look at the entries of the columns and the number of unique values\n",
    "print(\"Length of unique values:\" + str(len(news[\"Quelle\"].unique())))\n",
    "news[\"Quelle\"].unique()"
   ]
  },
  {
   "cell_type": "code",
   "execution_count": 14,
   "metadata": {
    "colab": {
     "base_uri": "https://localhost:8080/",
     "height": 181
    },
    "colab_type": "code",
    "executionInfo": {
     "elapsed": 660,
     "status": "error",
     "timestamp": 1587071892154,
     "user": {
      "displayName": "Frauke Albrecht",
      "photoUrl": "https://lh3.googleusercontent.com/a-/AOh14GgX7qGfjnNJgb14d5kLrXf_w09cmXTYfcDYKcVJIA=s64",
      "userId": "00978869982924919157"
     },
     "user_tz": -120
    },
    "id": "kzvFrdXL2i_Y",
    "outputId": "0af7b05a-2523-4b9d-a79f-4ad7c7a42c69"
   },
   "outputs": [
    {
     "name": "stdout",
     "output_type": "stream",
     "text": [
      "Length of unique values:2\n"
     ]
    },
    {
     "data": {
      "text/plain": [
       "array([1, 0])"
      ]
     },
     "execution_count": 14,
     "metadata": {},
     "output_type": "execute_result"
    }
   ],
   "source": [
    "# have a look at the entries of the columns and the number of unique values\n",
    "print(\"Length of unique values:\" + str(len(news[\"Fake\"].unique())))\n",
    "news[\"Fake\"].unique()"
   ]
  },
  {
   "cell_type": "code",
   "execution_count": 15,
   "metadata": {
    "colab": {
     "base_uri": "https://localhost:8080/",
     "height": 181
    },
    "colab_type": "code",
    "executionInfo": {
     "elapsed": 777,
     "status": "error",
     "timestamp": 1587071894038,
     "user": {
      "displayName": "Frauke Albrecht",
      "photoUrl": "https://lh3.googleusercontent.com/a-/AOh14GgX7qGfjnNJgb14d5kLrXf_w09cmXTYfcDYKcVJIA=s64",
      "userId": "00978869982924919157"
     },
     "user_tz": -120
    },
    "id": "3A3SPbbq2i_a",
    "outputId": "01850207-6619-477c-c7db-d727499900cc",
    "scrolled": true
   },
   "outputs": [
    {
     "name": "stdout",
     "output_type": "stream",
     "text": [
      "Length of unique values:6\n"
     ]
    },
    {
     "data": {
      "text/plain": [
       "array([nan, 'pte', 'pts', 'pta', 'ptp', 'None'], dtype=object)"
      ]
     },
     "execution_count": 15,
     "metadata": {},
     "output_type": "execute_result"
    }
   ],
   "source": [
    "# have a look at the entries of the columns and the number of unique values\n",
    "print(\"Length of unique values:\" + str(len(news[\"Art\"].unique())))\n",
    "news[\"Art\"].unique()"
   ]
  },
  {
   "cell_type": "code",
   "execution_count": 16,
   "metadata": {
    "colab": {
     "base_uri": "https://localhost:8080/",
     "height": 181
    },
    "colab_type": "code",
    "executionInfo": {
     "elapsed": 1781,
     "status": "error",
     "timestamp": 1587071897038,
     "user": {
      "displayName": "Frauke Albrecht",
      "photoUrl": "https://lh3.googleusercontent.com/a-/AOh14GgX7qGfjnNJgb14d5kLrXf_w09cmXTYfcDYKcVJIA=s64",
      "userId": "00978869982924919157"
     },
     "user_tz": -120
    },
    "id": "EP5bkO242i_c",
    "outputId": "3a239a1f-0041-449a-8aac-e2859f1d8dc4"
   },
   "outputs": [
    {
     "data": {
      "text/html": [
       "<div>\n",
       "<style scoped>\n",
       "    .dataframe tbody tr th:only-of-type {\n",
       "        vertical-align: middle;\n",
       "    }\n",
       "\n",
       "    .dataframe tbody tr th {\n",
       "        vertical-align: top;\n",
       "    }\n",
       "\n",
       "    .dataframe thead th {\n",
       "        text-align: right;\n",
       "    }\n",
       "</style>\n",
       "<table border=\"1\" class=\"dataframe\">\n",
       "  <thead>\n",
       "    <tr style=\"text-align: right;\">\n",
       "      <th></th>\n",
       "      <th>id</th>\n",
       "      <th>url</th>\n",
       "      <th>Titel</th>\n",
       "      <th>Body</th>\n",
       "      <th>Kategorie</th>\n",
       "      <th>Datum</th>\n",
       "      <th>Quelle</th>\n",
       "      <th>Fake</th>\n",
       "    </tr>\n",
       "  </thead>\n",
       "  <tbody>\n",
       "    <tr>\n",
       "      <th>0</th>\n",
       "      <td>773233</td>\n",
       "      <td>http://www.der-postillon.com/2018/01/grokoleak...</td>\n",
       "      <td>Exklusiv! Das geheime WhatsApp-Chat-Protokoll ...</td>\n",
       "      <td>Die Sondierungsgespräche zwischen Union und SP...</td>\n",
       "      <td>Wirtschaft</td>\n",
       "      <td>2018-01-18 00:00:00</td>\n",
       "      <td>Postillion</td>\n",
       "      <td>1</td>\n",
       "    </tr>\n",
       "    <tr>\n",
       "      <th>1</th>\n",
       "      <td>773234</td>\n",
       "      <td>http://www.der-postillon.com/2018/01/trump-san...</td>\n",
       "      <td>Trump droht, jeden zu verspeisen, der an seine...</td>\n",
       "      <td>Nun ist es auch medizinisch offiziell bestätig...</td>\n",
       "      <td>Wirtschaft</td>\n",
       "      <td>2018-01-17 00:00:00</td>\n",
       "      <td>Postillion</td>\n",
       "      <td>1</td>\n",
       "    </tr>\n",
       "    <tr>\n",
       "      <th>2</th>\n",
       "      <td>773235</td>\n",
       "      <td>http://www.der-postillon.com/2018/01/fdp-sondi...</td>\n",
       "      <td>Soli runter, keine Steuererhöhungen, kein Klim...</td>\n",
       "      <td>Es waren zähe Verhandlungen, doch die Freien D...</td>\n",
       "      <td>Wirtschaft</td>\n",
       "      <td>2018-01-12 00:00:00</td>\n",
       "      <td>Postillion</td>\n",
       "      <td>1</td>\n",
       "    </tr>\n",
       "    <tr>\n",
       "      <th>3</th>\n",
       "      <td>773236</td>\n",
       "      <td>http://www.der-postillon.com/2018/01/joachim-s...</td>\n",
       "      <td>Hat sie eine Affäre? Joachim Sauer glaubt Ange...</td>\n",
       "      <td>Wo treibt sie sich immer bis spät in die Nacht...</td>\n",
       "      <td>Wirtschaft</td>\n",
       "      <td>2018-01-09 00:00:00</td>\n",
       "      <td>Postillion</td>\n",
       "      <td>1</td>\n",
       "    </tr>\n",
       "    <tr>\n",
       "      <th>4</th>\n",
       "      <td>773237</td>\n",
       "      <td>http://www.der-postillon.com/2018/01/halb-so-s...</td>\n",
       "      <td>\"Er hat ja nur HALBneger gesagt\": So begründet...</td>\n",
       "      <td>Der Parteivorstand drückt nochmal ein Auge zu:...</td>\n",
       "      <td>Wirtschaft</td>\n",
       "      <td>2018-01-08 00:00:00</td>\n",
       "      <td>Postillion</td>\n",
       "      <td>1</td>\n",
       "    </tr>\n",
       "  </tbody>\n",
       "</table>\n",
       "</div>"
      ],
      "text/plain": [
       "       id                                                url  \\\n",
       "0  773233  http://www.der-postillon.com/2018/01/grokoleak...   \n",
       "1  773234  http://www.der-postillon.com/2018/01/trump-san...   \n",
       "2  773235  http://www.der-postillon.com/2018/01/fdp-sondi...   \n",
       "3  773236  http://www.der-postillon.com/2018/01/joachim-s...   \n",
       "4  773237  http://www.der-postillon.com/2018/01/halb-so-s...   \n",
       "\n",
       "                                               Titel  \\\n",
       "0  Exklusiv! Das geheime WhatsApp-Chat-Protokoll ...   \n",
       "1  Trump droht, jeden zu verspeisen, der an seine...   \n",
       "2  Soli runter, keine Steuererhöhungen, kein Klim...   \n",
       "3  Hat sie eine Affäre? Joachim Sauer glaubt Ange...   \n",
       "4  \"Er hat ja nur HALBneger gesagt\": So begründet...   \n",
       "\n",
       "                                                Body   Kategorie  \\\n",
       "0  Die Sondierungsgespräche zwischen Union und SP...  Wirtschaft   \n",
       "1  Nun ist es auch medizinisch offiziell bestätig...  Wirtschaft   \n",
       "2  Es waren zähe Verhandlungen, doch die Freien D...  Wirtschaft   \n",
       "3  Wo treibt sie sich immer bis spät in die Nacht...  Wirtschaft   \n",
       "4  Der Parteivorstand drückt nochmal ein Auge zu:...  Wirtschaft   \n",
       "\n",
       "                 Datum      Quelle  Fake  \n",
       "0  2018-01-18 00:00:00  Postillion     1  \n",
       "1  2018-01-17 00:00:00  Postillion     1  \n",
       "2  2018-01-12 00:00:00  Postillion     1  \n",
       "3  2018-01-09 00:00:00  Postillion     1  \n",
       "4  2018-01-08 00:00:00  Postillion     1  "
      ]
     },
     "execution_count": 16,
     "metadata": {},
     "output_type": "execute_result"
    }
   ],
   "source": [
    "# drop column \"Art\"\n",
    "news.drop([\"Art\"],axis=1, inplace=True)\n",
    "news.head()"
   ]
  },
  {
   "cell_type": "markdown",
   "metadata": {
    "colab_type": "text",
    "id": "OxG2rUSt2i_e"
   },
   "source": [
    "# Data Exploration"
   ]
  },
  {
   "cell_type": "markdown",
   "metadata": {
    "colab_type": "text",
    "id": "jCrCd8d92i_f"
   },
   "source": [
    "## Explore the column \"Kategorie\"\n",
    "\n",
    "Plot the number of articles for each category. Then explore which source has which category. It turns out that \"Einezeitung\" doesn't have any category. For the prediction of fake news without predicting the category this is not important. We will therefore make a copy of the existing dataframe for the purpose of our first objective, which is to build a model that detects fake news. For the purpose of our second objective, that is also predicting the category, we need to delete entries from \"Einezeitung\". This leaves us with two dataframes, the first one has only missing values in the column \"Kategorie\", which is not important, and the second does not have any missing values.\n",
    "\n",
    "For the prediction of the category, we will only keep the most importants: **Wirtschaft, Sport, Medien, International, Inland, Business, Leben, Hightech, Politik** and combine the others to the category **\"Andere\"**. \"Politik\" and \"Sport\" have comparable little values. We will have to see, if we can keep them for predicting."
   ]
  },
  {
   "cell_type": "code",
   "execution_count": 17,
   "metadata": {
    "colab": {
     "base_uri": "https://localhost:8080/",
     "height": 215
    },
    "colab_type": "code",
    "executionInfo": {
     "elapsed": 992,
     "status": "error",
     "timestamp": 1587071901534,
     "user": {
      "displayName": "Frauke Albrecht",
      "photoUrl": "https://lh3.googleusercontent.com/a-/AOh14GgX7qGfjnNJgb14d5kLrXf_w09cmXTYfcDYKcVJIA=s64",
      "userId": "00978869982924919157"
     },
     "user_tz": -120
    },
    "id": "g8gwxB7O2i_f",
    "outputId": "5d9b9d40-0518-4933-c1f6-a36c9ad96262"
   },
   "outputs": [
    {
     "data": {
      "image/png": "[encoded data removed]",
      "text/plain": [
       "<Figure size 1080x360 with 1 Axes>"
      ]
     },
     "metadata": {
      "needs_background": "light"
     },
     "output_type": "display_data"
    }
   ],
   "source": [
    "# number of articles per category\n",
    "plt.figure(figsize=(15,5))\n",
    "chart = sns.countplot(news[\"Kategorie\"],palette='Set1')\n",
    "chart.set_xticklabels(chart.get_xticklabels(), rotation=45, horizontalalignment='right');"
   ]
  },
  {
   "cell_type": "code",
   "execution_count": 18,
   "metadata": {
    "colab": {
     "base_uri": "https://localhost:8080/",
     "height": 164
    },
    "colab_type": "code",
    "executionInfo": {
     "elapsed": 713,
     "status": "error",
     "timestamp": 1587071901534,
     "user": {
      "displayName": "Frauke Albrecht",
      "photoUrl": "https://lh3.googleusercontent.com/a-/AOh14GgX7qGfjnNJgb14d5kLrXf_w09cmXTYfcDYKcVJIA=s64",
      "userId": "00978869982924919157"
     },
     "user_tz": -120
    },
    "id": "esIiH7Rq2i_i",
    "outputId": "c5a687f5-9c73-4c5b-8b6f-6ec7bdc945e7"
   },
   "outputs": [
    {
     "data": {
      "text/plain": [
       "Quelle\n",
       "Einezeitung                                                [nan]\n",
       "Kleine         [Österreich, International, Sport, Politik, Wi...\n",
       "Postillion     [Wirtschaft, Sport, Leute, Medien, Wissenschaf...\n",
       "Pressetext           [Leben, Medien, Business, Hightech, Adhock]\n",
       "Reuters        [International, Inland, Business, Wirtschaft, ...\n",
       "Tagespresse        [Wirtschaft, Politik, Chronik, International]\n",
       "Zeitspiegel    [Politik, Wirtschaft, Kultur, Wissenschaft, Ge...\n",
       "Name: Kategorie, dtype: object"
      ]
     },
     "execution_count": 18,
     "metadata": {},
     "output_type": "execute_result"
    }
   ],
   "source": [
    "# Which category has which source?\n",
    "news.groupby([\"Quelle\"])[\"Kategorie\"].unique()"
   ]
  },
  {
   "cell_type": "code",
   "execution_count": 19,
   "metadata": {
    "colab": {
     "base_uri": "https://localhost:8080/",
     "height": 181
    },
    "colab_type": "code",
    "executionInfo": {
     "elapsed": 1258,
     "status": "error",
     "timestamp": 1587071903889,
     "user": {
      "displayName": "Frauke Albrecht",
      "photoUrl": "https://lh3.googleusercontent.com/a-/AOh14GgX7qGfjnNJgb14d5kLrXf_w09cmXTYfcDYKcVJIA=s64",
      "userId": "00978869982924919157"
     },
     "user_tz": -120
    },
    "id": "8M0R9Tk12i_j",
    "outputId": "7521b6a8-5bae-47b2-cfc0-6bc11dd8c76b"
   },
   "outputs": [
    {
     "name": "stdout",
     "output_type": "stream",
     "text": [
      "<class 'pandas.core.frame.DataFrame'>\n",
      "Int64Index: 63868 entries, 0 to 63867\n",
      "Data columns (total 8 columns):\n",
      " #   Column     Non-Null Count  Dtype \n",
      "---  ------     --------------  ----- \n",
      " 0   id         63868 non-null  int64 \n",
      " 1   url        63868 non-null  object\n",
      " 2   Titel      63868 non-null  object\n",
      " 3   Body       63868 non-null  object\n",
      " 4   Kategorie  62546 non-null  object\n",
      " 5   Datum      63868 non-null  object\n",
      " 6   Quelle     63868 non-null  object\n",
      " 7   Fake       63868 non-null  int64 \n",
      "dtypes: int64(2), object(6)\n",
      "memory usage: 4.4+ MB\n"
     ]
    }
   ],
   "source": [
    "# Copy the existing dataframe for the model, which only predicts whether the news are fake or not\n",
    "# (In this case the category is not important)\n",
    "news_fake = news.copy()\n",
    "news_fake.info()"
   ]
  },
  {
   "cell_type": "code",
   "execution_count": 20,
   "metadata": {
    "colab": {
     "base_uri": "https://localhost:8080/",
     "height": 215
    },
    "colab_type": "code",
    "executionInfo": {
     "elapsed": 1376,
     "status": "error",
     "timestamp": 1587071907006,
     "user": {
      "displayName": "Frauke Albrecht",
      "photoUrl": "https://lh3.googleusercontent.com/a-/AOh14GgX7qGfjnNJgb14d5kLrXf_w09cmXTYfcDYKcVJIA=s64",
      "userId": "00978869982924919157"
     },
     "user_tz": -120
    },
    "id": "E457RKco2i_l",
    "outputId": "2ad5c28d-2283-4667-dd18-98a835932843"
   },
   "outputs": [
    {
     "name": "stdout",
     "output_type": "stream",
     "text": [
      "<class 'pandas.core.frame.DataFrame'>\n",
      "Int64Index: 62546 entries, 0 to 63867\n",
      "Data columns (total 8 columns):\n",
      " #   Column     Non-Null Count  Dtype \n",
      "---  ------     --------------  ----- \n",
      " 0   id         62546 non-null  int64 \n",
      " 1   url        62546 non-null  object\n",
      " 2   Titel      62546 non-null  object\n",
      " 3   Body       62546 non-null  object\n",
      " 4   Kategorie  62546 non-null  object\n",
      " 5   Datum      62546 non-null  object\n",
      " 6   Quelle     62546 non-null  object\n",
      " 7   Fake       62546 non-null  int64 \n",
      "dtypes: int64(2), object(6)\n",
      "memory usage: 4.3+ MB\n"
     ]
    }
   ],
   "source": [
    "# The source \"Einezeitung\" does not have categories\n",
    "# For the prediction of the category me need to remove these values\n",
    "\n",
    "news_cat = news.copy()\n",
    "news_cat.drop(news_cat[news_cat[\"Quelle\"] == \"Einezeitung\"].index, inplace=True)\n",
    "news_cat.info()"
   ]
  },
  {
   "cell_type": "code",
   "execution_count": 21,
   "metadata": {
    "colab": {
     "base_uri": "https://localhost:8080/",
     "height": 215
    },
    "colab_type": "code",
    "executionInfo": {
     "elapsed": 535,
     "status": "error",
     "timestamp": 1587071907903,
     "user": {
      "displayName": "Frauke Albrecht",
      "photoUrl": "https://lh3.googleusercontent.com/a-/AOh14GgX7qGfjnNJgb14d5kLrXf_w09cmXTYfcDYKcVJIA=s64",
      "userId": "00978869982924919157"
     },
     "user_tz": -120
    },
    "id": "wJ-3eKIV2i_n",
    "outputId": "6f9ed3b1-09f7-46f5-e9b2-fb3e89e5e4ed"
   },
   "outputs": [],
   "source": [
    "# only keep categories: Wirtschaft, Sport, Medien, International, Inland, Business, Leben, Hightech, Politik\n",
    "# combine all others to category \"Andere\"\n",
    "news_cat['Kategorie'] = np.where(news_cat.isin([\"Leute\",\"Wissenschaft\",\"Panorama\"\n",
    "                                                ,\"Marktnachrichten\",\"Top-Nachrichten\",\"Chronik\"\n",
    "                                                ,\"Kultur\",\"Gesundheit\",\"Adhock\",\"Österreich\"])[\"Kategorie\"]\n",
    "                                , \"Andere\", news_cat['Kategorie'])"
   ]
  },
  {
   "cell_type": "code",
   "execution_count": 22,
   "metadata": {
    "colab": {
     "base_uri": "https://localhost:8080/",
     "height": 181
    },
    "colab_type": "code",
    "executionInfo": {
     "elapsed": 913,
     "status": "error",
     "timestamp": 1587071909826,
     "user": {
      "displayName": "Frauke Albrecht",
      "photoUrl": "https://lh3.googleusercontent.com/a-/AOh14GgX7qGfjnNJgb14d5kLrXf_w09cmXTYfcDYKcVJIA=s64",
      "userId": "00978869982924919157"
     },
     "user_tz": -120
    },
    "id": "-4w3vIEl2i_p",
    "outputId": "b17be81c-248d-4163-93df-386e99b89869",
    "scrolled": true
   },
   "outputs": [
    {
     "name": "stdout",
     "output_type": "stream",
     "text": [
      "Length of unique values:10\n"
     ]
    },
    {
     "data": {
      "text/plain": [
       "array(['Wirtschaft', 'Sport', 'Andere', 'Medien', 'International',\n",
       "       'Inland', 'Business', 'Politik', 'Leben', 'Hightech'], dtype=object)"
      ]
     },
     "execution_count": 22,
     "metadata": {},
     "output_type": "execute_result"
    }
   ],
   "source": [
    "print(\"Length of unique values:\" + str(len(news_cat[\"Kategorie\"].unique())))\n",
    "news_cat[\"Kategorie\"].unique()"
   ]
  },
  {
   "cell_type": "code",
   "execution_count": 23,
   "metadata": {
    "colab": {
     "base_uri": "https://localhost:8080/",
     "height": 215
    },
    "colab_type": "code",
    "executionInfo": {
     "elapsed": 894,
     "status": "error",
     "timestamp": 1587071910249,
     "user": {
      "displayName": "Frauke Albrecht",
      "photoUrl": "https://lh3.googleusercontent.com/a-/AOh14GgX7qGfjnNJgb14d5kLrXf_w09cmXTYfcDYKcVJIA=s64",
      "userId": "00978869982924919157"
     },
     "user_tz": -120
    },
    "id": "xqToHFhQ2i_r",
    "outputId": "3ae7fbc9-07e3-4f80-a688-4bbde91224ed"
   },
   "outputs": [
    {
     "data": {
      "image/png": "[encoded data removed]",
      "text/plain": [
       "<Figure size 1080x360 with 1 Axes>"
      ]
     },
     "metadata": {
      "needs_background": "light"
     },
     "output_type": "display_data"
    }
   ],
   "source": [
    "# number of articles per category\n",
    "plt.figure(figsize=(15,5))\n",
    "chart = sns.countplot(news_cat[\"Kategorie\"],palette='Set1')\n",
    "chart.set_xticklabels(chart.get_xticklabels(), rotation=45, horizontalalignment='right');"
   ]
  },
  {
   "cell_type": "code",
   "execution_count": 24,
   "metadata": {
    "colab": {},
    "colab_type": "code",
    "id": "qhtttBqN2i_u"
   },
   "outputs": [],
   "source": [
    "# Was bedeuten die einzelnen Kategorien? Können noch weitere Zusammengefasst werden?\n",
    "\n",
    "#Leben -> (Promis) speziell von \"kleine Zeitung\" -> Andere\n",
    "#Panorama -> gesellschaftlichen Themen\n",
    "#Kleine Zeitung: aus Österreich, hat keine Rubrik Inland\n",
    "#Postillon, keine Rubrik Inland\n",
    "#Reuters: Inland = Deutschland\n",
    "#Tagespresse (Österreich): kein Inland"
   ]
  },
  {
   "cell_type": "markdown",
   "metadata": {
    "colab_type": "text",
    "id": "woiBcZev2i_w"
   },
   "source": [
    "## Exploration of Statistics in the Dataset"
   ]
  },
  {
   "cell_type": "markdown",
   "metadata": {
    "colab_type": "text",
    "id": "9_sRIxz72i_x"
   },
   "source": [
    "### Fake versus no Fake\n",
    "\n",
    "For the fake vs. no fake analsysis we have a look at the number of articles that are listed as fake and those that are listed as no fake. We can see that there are much more real (no fake) articles. That is the distribution is not balanced."
   ]
  },
  {
   "cell_type": "code",
   "execution_count": 25,
   "metadata": {
    "colab": {
     "base_uri": "https://localhost:8080/",
     "height": 164
    },
    "colab_type": "code",
    "executionInfo": {
     "elapsed": 1301,
     "status": "error",
     "timestamp": 1587071918134,
     "user": {
      "displayName": "Frauke Albrecht",
      "photoUrl": "https://lh3.googleusercontent.com/a-/AOh14GgX7qGfjnNJgb14d5kLrXf_w09cmXTYfcDYKcVJIA=s64",
      "userId": "00978869982924919157"
     },
     "user_tz": -120
    },
    "id": "YHA0hkzZ2i_x",
    "outputId": "8917fcd4-3986-43cf-d18a-fa0115ec9aa2"
   },
   "outputs": [
    {
     "data": {
      "text/html": [
       "<div>\n",
       "<style scoped>\n",
       "    .dataframe tbody tr th:only-of-type {\n",
       "        vertical-align: middle;\n",
       "    }\n",
       "\n",
       "    .dataframe tbody tr th {\n",
       "        vertical-align: top;\n",
       "    }\n",
       "\n",
       "    .dataframe thead th {\n",
       "        text-align: right;\n",
       "    }\n",
       "</style>\n",
       "<table border=\"1\" class=\"dataframe\">\n",
       "  <thead>\n",
       "    <tr style=\"text-align: right;\">\n",
       "      <th></th>\n",
       "      <th>id</th>\n",
       "      <th>url</th>\n",
       "      <th>Titel</th>\n",
       "      <th>Body</th>\n",
       "      <th>Kategorie</th>\n",
       "      <th>Datum</th>\n",
       "      <th>Quelle</th>\n",
       "    </tr>\n",
       "    <tr>\n",
       "      <th>Fake</th>\n",
       "      <th></th>\n",
       "      <th></th>\n",
       "      <th></th>\n",
       "      <th></th>\n",
       "      <th></th>\n",
       "      <th></th>\n",
       "      <th></th>\n",
       "    </tr>\n",
       "  </thead>\n",
       "  <tbody>\n",
       "    <tr>\n",
       "      <th>0</th>\n",
       "      <td>59241</td>\n",
       "      <td>59241</td>\n",
       "      <td>59241</td>\n",
       "      <td>59241</td>\n",
       "      <td>59241</td>\n",
       "      <td>59241</td>\n",
       "      <td>59241</td>\n",
       "    </tr>\n",
       "    <tr>\n",
       "      <th>1</th>\n",
       "      <td>4627</td>\n",
       "      <td>4627</td>\n",
       "      <td>4627</td>\n",
       "      <td>4627</td>\n",
       "      <td>3305</td>\n",
       "      <td>4627</td>\n",
       "      <td>4627</td>\n",
       "    </tr>\n",
       "  </tbody>\n",
       "</table>\n",
       "</div>"
      ],
      "text/plain": [
       "         id    url  Titel   Body  Kategorie  Datum  Quelle\n",
       "Fake                                                      \n",
       "0     59241  59241  59241  59241      59241  59241   59241\n",
       "1      4627   4627   4627   4627       3305   4627    4627"
      ]
     },
     "execution_count": 25,
     "metadata": {},
     "output_type": "execute_result"
    }
   ],
   "source": [
    "#count nr of fake vs. no fake articles \n",
    "news_fake.groupby([\"Fake\"]).count()"
   ]
  },
  {
   "cell_type": "code",
   "execution_count": 26,
   "metadata": {
    "colab": {
     "base_uri": "https://localhost:8080/",
     "height": 232
    },
    "colab_type": "code",
    "executionInfo": {
     "elapsed": 878,
     "status": "error",
     "timestamp": 1587071920505,
     "user": {
      "displayName": "Frauke Albrecht",
      "photoUrl": "https://lh3.googleusercontent.com/a-/AOh14GgX7qGfjnNJgb14d5kLrXf_w09cmXTYfcDYKcVJIA=s64",
      "userId": "00978869982924919157"
     },
     "user_tz": -120
    },
    "id": "f2YKVtOq2i_1",
    "outputId": "146793a8-4b9b-474d-f39c-761ced667991"
   },
   "outputs": [
    {
     "data": {
      "image/png": "[encoded data removed]",
      "text/plain": [
       "<Figure size 360x360 with 1 Axes>"
      ]
     },
     "metadata": {
      "needs_background": "light"
     },
     "output_type": "display_data"
    }
   ],
   "source": [
    "\n",
    "plt.figure(figsize=(5,5))\n",
    "chart = sns.countplot(x='Fake', data=news_fake);\n",
    "chart.set_xticklabels(chart.get_xticklabels(), rotation=45, horizontalalignment='right');"
   ]
  },
  {
   "cell_type": "code",
   "execution_count": 27,
   "metadata": {
    "colab": {
     "base_uri": "https://localhost:8080/",
     "height": 164
    },
    "colab_type": "code",
    "executionInfo": {
     "elapsed": 1797,
     "status": "error",
     "timestamp": 1587071922153,
     "user": {
      "displayName": "Frauke Albrecht",
      "photoUrl": "https://lh3.googleusercontent.com/a-/AOh14GgX7qGfjnNJgb14d5kLrXf_w09cmXTYfcDYKcVJIA=s64",
      "userId": "00978869982924919157"
     },
     "user_tz": -120
    },
    "id": "wnFO8Wid2i_3",
    "outputId": "32462fd2-fe76-461a-b129-2f65f667a0af"
   },
   "outputs": [],
   "source": [
    "news_fake.reset_index(inplace=True)"
   ]
  },
  {
   "cell_type": "markdown",
   "metadata": {
    "colab_type": "text",
    "id": "ZOakvEC52i_4"
   },
   "source": [
    "### Categories\n",
    "\n",
    "By deleting the source \"Einezeitung\", we lost articles of the category fake, so that the distribution is now even more imbalanced considering fake vs. no fake articles. Looking at the number of articles per category also shows imbalances. Especially the categories \"Sport\" and \"Politik\" have little data. Considering the mean length of the articles, this is quite equal over all categories."
   ]
  },
  {
   "cell_type": "code",
   "execution_count": 28,
   "metadata": {
    "colab": {
     "base_uri": "https://localhost:8080/",
     "height": 164
    },
    "colab_type": "code",
    "executionInfo": {
     "elapsed": 1591,
     "status": "error",
     "timestamp": 1587071926944,
     "user": {
      "displayName": "Frauke Albrecht",
      "photoUrl": "https://lh3.googleusercontent.com/a-/AOh14GgX7qGfjnNJgb14d5kLrXf_w09cmXTYfcDYKcVJIA=s64",
      "userId": "00978869982924919157"
     },
     "user_tz": -120
    },
    "id": "YLXzlR8e2i_5",
    "outputId": "687dd1be-10ed-44df-d7ee-8679de8149c6"
   },
   "outputs": [
    {
     "data": {
      "text/html": [
       "<div>\n",
       "<style scoped>\n",
       "    .dataframe tbody tr th:only-of-type {\n",
       "        vertical-align: middle;\n",
       "    }\n",
       "\n",
       "    .dataframe tbody tr th {\n",
       "        vertical-align: top;\n",
       "    }\n",
       "\n",
       "    .dataframe thead th {\n",
       "        text-align: right;\n",
       "    }\n",
       "</style>\n",
       "<table border=\"1\" class=\"dataframe\">\n",
       "  <thead>\n",
       "    <tr style=\"text-align: right;\">\n",
       "      <th></th>\n",
       "      <th>id</th>\n",
       "      <th>url</th>\n",
       "      <th>Titel</th>\n",
       "      <th>Body</th>\n",
       "      <th>Kategorie</th>\n",
       "      <th>Datum</th>\n",
       "      <th>Quelle</th>\n",
       "    </tr>\n",
       "    <tr>\n",
       "      <th>Fake</th>\n",
       "      <th></th>\n",
       "      <th></th>\n",
       "      <th></th>\n",
       "      <th></th>\n",
       "      <th></th>\n",
       "      <th></th>\n",
       "      <th></th>\n",
       "    </tr>\n",
       "  </thead>\n",
       "  <tbody>\n",
       "    <tr>\n",
       "      <th>0</th>\n",
       "      <td>59241</td>\n",
       "      <td>59241</td>\n",
       "      <td>59241</td>\n",
       "      <td>59241</td>\n",
       "      <td>59241</td>\n",
       "      <td>59241</td>\n",
       "      <td>59241</td>\n",
       "    </tr>\n",
       "    <tr>\n",
       "      <th>1</th>\n",
       "      <td>3305</td>\n",
       "      <td>3305</td>\n",
       "      <td>3305</td>\n",
       "      <td>3305</td>\n",
       "      <td>3305</td>\n",
       "      <td>3305</td>\n",
       "      <td>3305</td>\n",
       "    </tr>\n",
       "  </tbody>\n",
       "</table>\n",
       "</div>"
      ],
      "text/plain": [
       "         id    url  Titel   Body  Kategorie  Datum  Quelle\n",
       "Fake                                                      \n",
       "0     59241  59241  59241  59241      59241  59241   59241\n",
       "1      3305   3305   3305   3305       3305   3305    3305"
      ]
     },
     "execution_count": 28,
     "metadata": {},
     "output_type": "execute_result"
    }
   ],
   "source": [
    "#count nr of fake vs. no fake articles \n",
    "news_cat.groupby([\"Fake\"]).count()"
   ]
  },
  {
   "cell_type": "code",
   "execution_count": 29,
   "metadata": {
    "colab": {
     "base_uri": "https://localhost:8080/",
     "height": 215
    },
    "colab_type": "code",
    "executionInfo": {
     "elapsed": 867,
     "status": "error",
     "timestamp": 1587071930318,
     "user": {
      "displayName": "Frauke Albrecht",
      "photoUrl": "https://lh3.googleusercontent.com/a-/AOh14GgX7qGfjnNJgb14d5kLrXf_w09cmXTYfcDYKcVJIA=s64",
      "userId": "00978869982924919157"
     },
     "user_tz": -120
    },
    "id": "MRs80rR72i_7",
    "outputId": "fb03bfd6-5a74-4c3d-a7d6-c59b9aadd9c0"
   },
   "outputs": [
    {
     "data": {
      "image/png": "[encoded data removed]",
      "text/plain": [
       "<Figure size 360x360 with 1 Axes>"
      ]
     },
     "metadata": {
      "needs_background": "light"
     },
     "output_type": "display_data"
    }
   ],
   "source": [
    "plt.figure(figsize=(5,5))\n",
    "chart = sns.countplot(x='Fake', data=news_cat);\n",
    "chart.set_xticklabels(chart.get_xticklabels(), rotation=45, horizontalalignment='right');"
   ]
  },
  {
   "cell_type": "code",
   "execution_count": 30,
   "metadata": {
    "colab": {
     "base_uri": "https://localhost:8080/",
     "height": 164
    },
    "colab_type": "code",
    "executionInfo": {
     "elapsed": 894,
     "status": "error",
     "timestamp": 1587071934402,
     "user": {
      "displayName": "Frauke Albrecht",
      "photoUrl": "https://lh3.googleusercontent.com/a-/AOh14GgX7qGfjnNJgb14d5kLrXf_w09cmXTYfcDYKcVJIA=s64",
      "userId": "00978869982924919157"
     },
     "user_tz": -120
    },
    "id": "CLVEi4MS2i_8",
    "outputId": "8aa355ec-c3fd-449c-cdb9-a0a8d7066511",
    "scrolled": true
   },
   "outputs": [
    {
     "data": {
      "text/html": [
       "<div>\n",
       "<style scoped>\n",
       "    .dataframe tbody tr th:only-of-type {\n",
       "        vertical-align: middle;\n",
       "    }\n",
       "\n",
       "    .dataframe tbody tr th {\n",
       "        vertical-align: top;\n",
       "    }\n",
       "\n",
       "    .dataframe thead th {\n",
       "        text-align: right;\n",
       "    }\n",
       "</style>\n",
       "<table border=\"1\" class=\"dataframe\">\n",
       "  <thead>\n",
       "    <tr style=\"text-align: right;\">\n",
       "      <th></th>\n",
       "      <th>id</th>\n",
       "      <th>url</th>\n",
       "      <th>Titel</th>\n",
       "      <th>Body</th>\n",
       "      <th>Datum</th>\n",
       "      <th>Quelle</th>\n",
       "      <th>Fake</th>\n",
       "    </tr>\n",
       "    <tr>\n",
       "      <th>Kategorie</th>\n",
       "      <th></th>\n",
       "      <th></th>\n",
       "      <th></th>\n",
       "      <th></th>\n",
       "      <th></th>\n",
       "      <th></th>\n",
       "      <th></th>\n",
       "    </tr>\n",
       "  </thead>\n",
       "  <tbody>\n",
       "    <tr>\n",
       "      <th>Andere</th>\n",
       "      <td>7236</td>\n",
       "      <td>7236</td>\n",
       "      <td>7236</td>\n",
       "      <td>7236</td>\n",
       "      <td>7236</td>\n",
       "      <td>7236</td>\n",
       "      <td>7236</td>\n",
       "    </tr>\n",
       "    <tr>\n",
       "      <th>Business</th>\n",
       "      <td>14635</td>\n",
       "      <td>14635</td>\n",
       "      <td>14635</td>\n",
       "      <td>14635</td>\n",
       "      <td>14635</td>\n",
       "      <td>14635</td>\n",
       "      <td>14635</td>\n",
       "    </tr>\n",
       "    <tr>\n",
       "      <th>Hightech</th>\n",
       "      <td>4842</td>\n",
       "      <td>4842</td>\n",
       "      <td>4842</td>\n",
       "      <td>4842</td>\n",
       "      <td>4842</td>\n",
       "      <td>4842</td>\n",
       "      <td>4842</td>\n",
       "    </tr>\n",
       "    <tr>\n",
       "      <th>Inland</th>\n",
       "      <td>5577</td>\n",
       "      <td>5577</td>\n",
       "      <td>5577</td>\n",
       "      <td>5577</td>\n",
       "      <td>5577</td>\n",
       "      <td>5577</td>\n",
       "      <td>5577</td>\n",
       "    </tr>\n",
       "    <tr>\n",
       "      <th>International</th>\n",
       "      <td>10485</td>\n",
       "      <td>10485</td>\n",
       "      <td>10485</td>\n",
       "      <td>10485</td>\n",
       "      <td>10485</td>\n",
       "      <td>10485</td>\n",
       "      <td>10485</td>\n",
       "    </tr>\n",
       "    <tr>\n",
       "      <th>Leben</th>\n",
       "      <td>6436</td>\n",
       "      <td>6436</td>\n",
       "      <td>6436</td>\n",
       "      <td>6436</td>\n",
       "      <td>6436</td>\n",
       "      <td>6436</td>\n",
       "      <td>6436</td>\n",
       "    </tr>\n",
       "    <tr>\n",
       "      <th>Medien</th>\n",
       "      <td>4683</td>\n",
       "      <td>4683</td>\n",
       "      <td>4683</td>\n",
       "      <td>4683</td>\n",
       "      <td>4683</td>\n",
       "      <td>4683</td>\n",
       "      <td>4683</td>\n",
       "    </tr>\n",
       "    <tr>\n",
       "      <th>Politik</th>\n",
       "      <td>1836</td>\n",
       "      <td>1836</td>\n",
       "      <td>1836</td>\n",
       "      <td>1836</td>\n",
       "      <td>1836</td>\n",
       "      <td>1836</td>\n",
       "      <td>1836</td>\n",
       "    </tr>\n",
       "    <tr>\n",
       "      <th>Sport</th>\n",
       "      <td>660</td>\n",
       "      <td>660</td>\n",
       "      <td>660</td>\n",
       "      <td>660</td>\n",
       "      <td>660</td>\n",
       "      <td>660</td>\n",
       "      <td>660</td>\n",
       "    </tr>\n",
       "    <tr>\n",
       "      <th>Wirtschaft</th>\n",
       "      <td>6156</td>\n",
       "      <td>6156</td>\n",
       "      <td>6156</td>\n",
       "      <td>6156</td>\n",
       "      <td>6156</td>\n",
       "      <td>6156</td>\n",
       "      <td>6156</td>\n",
       "    </tr>\n",
       "  </tbody>\n",
       "</table>\n",
       "</div>"
      ],
      "text/plain": [
       "                  id    url  Titel   Body  Datum  Quelle   Fake\n",
       "Kategorie                                                      \n",
       "Andere          7236   7236   7236   7236   7236    7236   7236\n",
       "Business       14635  14635  14635  14635  14635   14635  14635\n",
       "Hightech        4842   4842   4842   4842   4842    4842   4842\n",
       "Inland          5577   5577   5577   5577   5577    5577   5577\n",
       "International  10485  10485  10485  10485  10485   10485  10485\n",
       "Leben           6436   6436   6436   6436   6436    6436   6436\n",
       "Medien          4683   4683   4683   4683   4683    4683   4683\n",
       "Politik         1836   1836   1836   1836   1836    1836   1836\n",
       "Sport            660    660    660    660    660     660    660\n",
       "Wirtschaft      6156   6156   6156   6156   6156    6156   6156"
      ]
     },
     "execution_count": 30,
     "metadata": {},
     "output_type": "execute_result"
    }
   ],
   "source": [
    "#count nr of articles per category\n",
    "news_cat.groupby([\"Kategorie\"]).count()"
   ]
  },
  {
   "cell_type": "code",
   "execution_count": 31,
   "metadata": {
    "colab": {
     "base_uri": "https://localhost:8080/",
     "height": 249
    },
    "colab_type": "code",
    "executionInfo": {
     "elapsed": 848,
     "status": "error",
     "timestamp": 1587071940752,
     "user": {
      "displayName": "Frauke Albrecht",
      "photoUrl": "https://lh3.googleusercontent.com/a-/AOh14GgX7qGfjnNJgb14d5kLrXf_w09cmXTYfcDYKcVJIA=s64",
      "userId": "00978869982924919157"
     },
     "user_tz": -120
    },
    "id": "QvAOQQTs2i__",
    "outputId": "efc6fc64-b977-42fe-bb18-e62a0f51db3e",
    "scrolled": false
   },
   "outputs": [
    {
     "data": {
      "image/png": "[encoded data removed]",
      "text/plain": [
       "<Figure size 1080x360 with 1 Axes>"
      ]
     },
     "metadata": {
      "needs_background": "light"
     },
     "output_type": "display_data"
    }
   ],
   "source": [
    "plt.figure(figsize=(15,5))\n",
    "chart = sns.countplot(x='Kategorie', data=news_cat);\n",
    "chart.set_xticklabels(chart.get_xticklabels(), rotation=45, horizontalalignment='right');\n",
    "#chart = news_cat['Kategorie'].value_counts().plot(kind='bar')\n",
    "#chart.set_xticklabels(chart.get_xticklabels(), rotation=45, horizontalalignment='right');"
   ]
  },
  {
   "cell_type": "code",
   "execution_count": 32,
   "metadata": {
    "colab": {
     "base_uri": "https://localhost:8080/",
     "height": 164
    },
    "colab_type": "code",
    "executionInfo": {
     "elapsed": 883,
     "status": "error",
     "timestamp": 1587071943870,
     "user": {
      "displayName": "Frauke Albrecht",
      "photoUrl": "https://lh3.googleusercontent.com/a-/AOh14GgX7qGfjnNJgb14d5kLrXf_w09cmXTYfcDYKcVJIA=s64",
      "userId": "00978869982924919157"
     },
     "user_tz": -120
    },
    "id": "M06IeBKM2jAB",
    "outputId": "b1783a6a-877b-43ee-e8c0-4265c18722cc",
    "scrolled": true
   },
   "outputs": [],
   "source": [
    "news_cat.reset_index(inplace=True)"
   ]
  },
  {
   "cell_type": "markdown",
   "metadata": {},
   "source": [
    "### Average number of Words in each Category\n",
    "\n",
    "Count the number of words in each article and mean over the categories. The result range between 298 and 378."
   ]
  },
  {
   "cell_type": "code",
   "execution_count": 33,
   "metadata": {
    "colab": {
     "base_uri": "https://localhost:8080/",
     "height": 181
    },
    "colab_type": "code",
    "executionInfo": {
     "elapsed": 904,
     "status": "error",
     "timestamp": 1587071944453,
     "user": {
      "displayName": "Frauke Albrecht",
      "photoUrl": "https://lh3.googleusercontent.com/a-/AOh14GgX7qGfjnNJgb14d5kLrXf_w09cmXTYfcDYKcVJIA=s64",
      "userId": "00978869982924919157"
     },
     "user_tz": -120
    },
    "id": "tDJl-J1M2jAC",
    "outputId": "70084133-0f00-49ed-f35e-c6227e6dbaa7",
    "scrolled": false
   },
   "outputs": [],
   "source": [
    "#count nr of words in articles \n",
    "for i in range(news_cat.shape[0]):\n",
    "    news_cat.loc[i,\"Body_length\"] = len(news_cat.loc[i,\"Body\"].split())"
   ]
  },
  {
   "cell_type": "code",
   "execution_count": 34,
   "metadata": {
    "colab": {
     "base_uri": "https://localhost:8080/",
     "height": 164
    },
    "colab_type": "code",
    "executionInfo": {
     "elapsed": 857,
     "status": "error",
     "timestamp": 1587071945974,
     "user": {
      "displayName": "Frauke Albrecht",
      "photoUrl": "https://lh3.googleusercontent.com/a-/AOh14GgX7qGfjnNJgb14d5kLrXf_w09cmXTYfcDYKcVJIA=s64",
      "userId": "00978869982924919157"
     },
     "user_tz": -120
    },
    "id": "7v3P0nIj2jAE",
    "outputId": "558b78f2-69a5-467a-b766-dc3f0a5a3a42"
   },
   "outputs": [
    {
     "data": {
      "text/html": [
       "<div>\n",
       "<style scoped>\n",
       "    .dataframe tbody tr th:only-of-type {\n",
       "        vertical-align: middle;\n",
       "    }\n",
       "\n",
       "    .dataframe tbody tr th {\n",
       "        vertical-align: top;\n",
       "    }\n",
       "\n",
       "    .dataframe thead th {\n",
       "        text-align: right;\n",
       "    }\n",
       "</style>\n",
       "<table border=\"1\" class=\"dataframe\">\n",
       "  <thead>\n",
       "    <tr style=\"text-align: right;\">\n",
       "      <th></th>\n",
       "      <th>index</th>\n",
       "      <th>id</th>\n",
       "      <th>url</th>\n",
       "      <th>Titel</th>\n",
       "      <th>Body</th>\n",
       "      <th>Kategorie</th>\n",
       "      <th>Datum</th>\n",
       "      <th>Quelle</th>\n",
       "      <th>Fake</th>\n",
       "      <th>Body_length</th>\n",
       "    </tr>\n",
       "  </thead>\n",
       "  <tbody>\n",
       "    <tr>\n",
       "      <th>0</th>\n",
       "      <td>0</td>\n",
       "      <td>773233</td>\n",
       "      <td>http://www.der-postillon.com/2018/01/grokoleak...</td>\n",
       "      <td>Exklusiv! Das geheime WhatsApp-Chat-Protokoll ...</td>\n",
       "      <td>Die Sondierungsgespräche zwischen Union und SP...</td>\n",
       "      <td>Wirtschaft</td>\n",
       "      <td>2018-01-18 00:00:00</td>\n",
       "      <td>Postillion</td>\n",
       "      <td>1</td>\n",
       "      <td>160.0</td>\n",
       "    </tr>\n",
       "    <tr>\n",
       "      <th>1</th>\n",
       "      <td>1</td>\n",
       "      <td>773234</td>\n",
       "      <td>http://www.der-postillon.com/2018/01/trump-san...</td>\n",
       "      <td>Trump droht, jeden zu verspeisen, der an seine...</td>\n",
       "      <td>Nun ist es auch medizinisch offiziell bestätig...</td>\n",
       "      <td>Wirtschaft</td>\n",
       "      <td>2018-01-17 00:00:00</td>\n",
       "      <td>Postillion</td>\n",
       "      <td>1</td>\n",
       "      <td>248.0</td>\n",
       "    </tr>\n",
       "    <tr>\n",
       "      <th>2</th>\n",
       "      <td>2</td>\n",
       "      <td>773235</td>\n",
       "      <td>http://www.der-postillon.com/2018/01/fdp-sondi...</td>\n",
       "      <td>Soli runter, keine Steuererhöhungen, kein Klim...</td>\n",
       "      <td>Es waren zähe Verhandlungen, doch die Freien D...</td>\n",
       "      <td>Wirtschaft</td>\n",
       "      <td>2018-01-12 00:00:00</td>\n",
       "      <td>Postillion</td>\n",
       "      <td>1</td>\n",
       "      <td>264.0</td>\n",
       "    </tr>\n",
       "    <tr>\n",
       "      <th>3</th>\n",
       "      <td>3</td>\n",
       "      <td>773236</td>\n",
       "      <td>http://www.der-postillon.com/2018/01/joachim-s...</td>\n",
       "      <td>Hat sie eine Affäre? Joachim Sauer glaubt Ange...</td>\n",
       "      <td>Wo treibt sie sich immer bis spät in die Nacht...</td>\n",
       "      <td>Wirtschaft</td>\n",
       "      <td>2018-01-09 00:00:00</td>\n",
       "      <td>Postillion</td>\n",
       "      <td>1</td>\n",
       "      <td>290.0</td>\n",
       "    </tr>\n",
       "    <tr>\n",
       "      <th>4</th>\n",
       "      <td>4</td>\n",
       "      <td>773237</td>\n",
       "      <td>http://www.der-postillon.com/2018/01/halb-so-s...</td>\n",
       "      <td>\"Er hat ja nur HALBneger gesagt\": So begründet...</td>\n",
       "      <td>Der Parteivorstand drückt nochmal ein Auge zu:...</td>\n",
       "      <td>Wirtschaft</td>\n",
       "      <td>2018-01-08 00:00:00</td>\n",
       "      <td>Postillion</td>\n",
       "      <td>1</td>\n",
       "      <td>163.0</td>\n",
       "    </tr>\n",
       "  </tbody>\n",
       "</table>\n",
       "</div>"
      ],
      "text/plain": [
       "   index      id                                                url  \\\n",
       "0      0  773233  http://www.der-postillon.com/2018/01/grokoleak...   \n",
       "1      1  773234  http://www.der-postillon.com/2018/01/trump-san...   \n",
       "2      2  773235  http://www.der-postillon.com/2018/01/fdp-sondi...   \n",
       "3      3  773236  http://www.der-postillon.com/2018/01/joachim-s...   \n",
       "4      4  773237  http://www.der-postillon.com/2018/01/halb-so-s...   \n",
       "\n",
       "                                               Titel  \\\n",
       "0  Exklusiv! Das geheime WhatsApp-Chat-Protokoll ...   \n",
       "1  Trump droht, jeden zu verspeisen, der an seine...   \n",
       "2  Soli runter, keine Steuererhöhungen, kein Klim...   \n",
       "3  Hat sie eine Affäre? Joachim Sauer glaubt Ange...   \n",
       "4  \"Er hat ja nur HALBneger gesagt\": So begründet...   \n",
       "\n",
       "                                                Body   Kategorie  \\\n",
       "0  Die Sondierungsgespräche zwischen Union und SP...  Wirtschaft   \n",
       "1  Nun ist es auch medizinisch offiziell bestätig...  Wirtschaft   \n",
       "2  Es waren zähe Verhandlungen, doch die Freien D...  Wirtschaft   \n",
       "3  Wo treibt sie sich immer bis spät in die Nacht...  Wirtschaft   \n",
       "4  Der Parteivorstand drückt nochmal ein Auge zu:...  Wirtschaft   \n",
       "\n",
       "                 Datum      Quelle  Fake  Body_length  \n",
       "0  2018-01-18 00:00:00  Postillion     1        160.0  \n",
       "1  2018-01-17 00:00:00  Postillion     1        248.0  \n",
       "2  2018-01-12 00:00:00  Postillion     1        264.0  \n",
       "3  2018-01-09 00:00:00  Postillion     1        290.0  \n",
       "4  2018-01-08 00:00:00  Postillion     1        163.0  "
      ]
     },
     "execution_count": 34,
     "metadata": {},
     "output_type": "execute_result"
    }
   ],
   "source": [
    "news_cat.head()"
   ]
  },
  {
   "cell_type": "code",
   "execution_count": 35,
   "metadata": {
    "colab": {
     "base_uri": "https://localhost:8080/",
     "height": 198
    },
    "colab_type": "code",
    "executionInfo": {
     "elapsed": 1636,
     "status": "error",
     "timestamp": 1587071951520,
     "user": {
      "displayName": "Frauke Albrecht",
      "photoUrl": "https://lh3.googleusercontent.com/a-/AOh14GgX7qGfjnNJgb14d5kLrXf_w09cmXTYfcDYKcVJIA=s64",
      "userId": "00978869982924919157"
     },
     "user_tz": -120
    },
    "id": "2VoKPMCm2jAG",
    "outputId": "a3b5f304-6d56-4e4c-d5ea-4c8998255a34",
    "scrolled": true
   },
   "outputs": [
    {
     "data": {
      "text/html": [
       "<div>\n",
       "<style scoped>\n",
       "    .dataframe tbody tr th:only-of-type {\n",
       "        vertical-align: middle;\n",
       "    }\n",
       "\n",
       "    .dataframe tbody tr th {\n",
       "        vertical-align: top;\n",
       "    }\n",
       "\n",
       "    .dataframe thead th {\n",
       "        text-align: right;\n",
       "    }\n",
       "</style>\n",
       "<table border=\"1\" class=\"dataframe\">\n",
       "  <thead>\n",
       "    <tr style=\"text-align: right;\">\n",
       "      <th></th>\n",
       "      <th>Kategorie</th>\n",
       "      <th>Body_length</th>\n",
       "    </tr>\n",
       "  </thead>\n",
       "  <tbody>\n",
       "    <tr>\n",
       "      <th>0</th>\n",
       "      <td>Andere</td>\n",
       "      <td>313.0</td>\n",
       "    </tr>\n",
       "    <tr>\n",
       "      <th>1</th>\n",
       "      <td>Business</td>\n",
       "      <td>365.0</td>\n",
       "    </tr>\n",
       "    <tr>\n",
       "      <th>2</th>\n",
       "      <td>Hightech</td>\n",
       "      <td>378.0</td>\n",
       "    </tr>\n",
       "    <tr>\n",
       "      <th>3</th>\n",
       "      <td>Inland</td>\n",
       "      <td>338.0</td>\n",
       "    </tr>\n",
       "    <tr>\n",
       "      <th>4</th>\n",
       "      <td>International</td>\n",
       "      <td>298.0</td>\n",
       "    </tr>\n",
       "  </tbody>\n",
       "</table>\n",
       "</div>"
      ],
      "text/plain": [
       "       Kategorie  Body_length\n",
       "0         Andere        313.0\n",
       "1       Business        365.0\n",
       "2       Hightech        378.0\n",
       "3         Inland        338.0\n",
       "4  International        298.0"
      ]
     },
     "execution_count": 35,
     "metadata": {},
     "output_type": "execute_result"
    }
   ],
   "source": [
    "#mean number of words per category\n",
    "mean_words = pd.DataFrame(round(news_cat.groupby([\"Kategorie\"])[\"Body_length\"].mean(),0))\n",
    "mean_words.reset_index(inplace=True)\n",
    "mean_words.head()"
   ]
  },
  {
   "cell_type": "code",
   "execution_count": 36,
   "metadata": {
    "colab": {
     "base_uri": "https://localhost:8080/",
     "height": 215
    },
    "colab_type": "code",
    "executionInfo": {
     "elapsed": 1816,
     "status": "error",
     "timestamp": 1587071953479,
     "user": {
      "displayName": "Frauke Albrecht",
      "photoUrl": "https://lh3.googleusercontent.com/a-/AOh14GgX7qGfjnNJgb14d5kLrXf_w09cmXTYfcDYKcVJIA=s64",
      "userId": "00978869982924919157"
     },
     "user_tz": -120
    },
    "id": "wATmGPu42jAK",
    "outputId": "4a9562a0-86ba-40c0-a812-541e8909b488"
   },
   "outputs": [
    {
     "data": {
      "image/png": "[encoded data removed]",
      "text/plain": [
       "<Figure size 1080x360 with 1 Axes>"
      ]
     },
     "metadata": {
      "needs_background": "light"
     },
     "output_type": "display_data"
    }
   ],
   "source": [
    "plt.figure(figsize=(15,5))\n",
    "chart = sns.barplot(x=mean_words[\"Kategorie\"],y=mean_words[\"Body_length\"]);\n",
    "chart.set_xticklabels(chart.get_xticklabels(), rotation=45, horizontalalignment='right');"
   ]
  },
  {
   "cell_type": "markdown",
   "metadata": {},
   "source": [
    "### Wordclouds for each Category\n",
    "\n",
    "Create wordclouds for the texts separated by categories. Show three wordclouds as an example."
   ]
  },
  {
   "cell_type": "code",
   "execution_count": 37,
   "metadata": {
    "colab": {},
    "colab_type": "code",
    "id": "QnC89uuY2jAM"
   },
   "outputs": [],
   "source": [
    "#which words occur in which category? -> Word clouds for each category\n",
    "#get words in a category\n",
    "def get_words(category):\n",
    "    text_df = pd.DataFrame(news_cat[news_cat[\"Kategorie\"] == category][\"Body\"]) \n",
    "    text = [text_df.iloc[i,:][\"Body\"] for i in range(text_df.shape[0])]\n",
    "    text_full = ''\n",
    "    for i in range(len(text)):\n",
    "        text_full += text[i]\n",
    "    return text_full"
   ]
  },
  {
   "cell_type": "code",
   "execution_count": 38,
   "metadata": {
    "colab": {
     "base_uri": "https://localhost:8080/",
     "height": 351
    },
    "colab_type": "code",
    "executionInfo": {
     "elapsed": 873,
     "status": "error",
     "timestamp": 1587071958857,
     "user": {
      "displayName": "Frauke Albrecht",
      "photoUrl": "https://lh3.googleusercontent.com/a-/AOh14GgX7qGfjnNJgb14d5kLrXf_w09cmXTYfcDYKcVJIA=s64",
      "userId": "00978869982924919157"
     },
     "user_tz": -120
    },
    "id": "mHO2nkvg2jAO",
    "outputId": "c44ca2d4-4fda-4399-c380-705888f344ce"
   },
   "outputs": [],
   "source": [
    "#get words for each category\n",
    "text_andere        = get_words(\"Andere\")\n",
    "text_business      = get_words(\"Business\")\n",
    "text_hightech      = get_words(\"Hightech\")\n",
    "text_inland        = get_words(\"Inland\")\n",
    "text_international = get_words(\"International\")\n",
    "text_leben         = get_words(\"Leben\")\n",
    "text_medien        = get_words(\"Medien\")\n",
    "text_politik       = get_words(\"Politik\")\n",
    "text_sport         = get_words(\"Sport\")\n",
    "text_wirtschaft    = get_words(\"Wirtschaft\")"
   ]
  },
  {
   "cell_type": "code",
   "execution_count": 39,
   "metadata": {
    "colab": {},
    "colab_type": "code",
    "id": "WpgTwAAK2jAP"
   },
   "outputs": [],
   "source": [
    "#clean text\n",
    "#delete punctuation marks, all lower case\n",
    "text_business      = text_business.lower()\n",
    "text_hightech      = text_hightech.lower()\n",
    "text_inland        = text_inland.lower()\n",
    "text_international = text_international.lower()\n",
    "text_leben         = text_leben.lower()\n",
    "text_medien        = text_medien.lower()\n",
    "text_politik       = text_politik.lower()\n",
    "text_sport         = text_sport.lower()\n",
    "text_wirtschaft    = text_wirtschaft.lower()"
   ]
  },
  {
   "cell_type": "code",
   "execution_count": 40,
   "metadata": {},
   "outputs": [],
   "source": [
    "#get the single words, without puncuation\n",
    "words_business      = re.split(r'\\W+', text_business)\n",
    "words_hightech      = re.split(r'\\W+', text_hightech)\n",
    "words_inland        = re.split(r'\\W+', text_inland)\n",
    "words_international = re.split(r'\\W+', text_international)\n",
    "words_leben         = re.split(r'\\W+', text_leben)\n",
    "words_medien        = re.split(r'\\W+', text_medien)\n",
    "words_politik       = re.split(r'\\W+', text_politik)\n",
    "words_sport         = re.split(r'\\W+', text_sport)\n",
    "words_wirtschaft    = re.split(r'\\W+', text_wirtschaft)"
   ]
  },
  {
   "cell_type": "code",
   "execution_count": 41,
   "metadata": {},
   "outputs": [],
   "source": [
    "text_clear_business      = ' '.join(words_business)\n",
    "text_clear_hightech      = ' '.join(words_hightech)\n",
    "text_clear_inland        = ' '.join(words_inland)\n",
    "text_clear_international = ' '.join(words_international)\n",
    "text_clear_leben         = ' '.join(words_leben)\n",
    "text_clear_medien        = ' '.join(words_medien)\n",
    "text_clear_politik       = ' '.join(words_politik)\n",
    "text_clear_sport         = ' '.join(words_sport)\n",
    "text_clear_wirtschaft    = ' '.join(words_wirtschaft)"
   ]
  },
  {
   "cell_type": "code",
   "execution_count": 47,
   "metadata": {
    "colab": {},
    "colab_type": "code",
    "id": "Ya43mKyx2jAV"
   },
   "outputs": [],
   "source": [
    "#define a mask \n",
    "\n",
    "# The following part has been taken from\n",
    "# https://www.datacamp.com/community/tutorials/wordcloud-python\n",
    "\n",
    "#The way the masking functions works is that it requires all white part of the mask should be 255 not 0 \n",
    "#(integer type). This value represents the \"intensity\" of the pixel. Values of 255 are pure white, \n",
    "#whereas values of 1 are black. Here, you can use the provided function below to transform your mask \n",
    "#if your mask has the same format as above. Notice if you have a mask that the background is not 0, but 1 or 2, \n",
    "#adjust the function to match your mask.\n",
    "def transform_format(val):\n",
    "    if val == 0:\n",
    "        return 255\n",
    "    else:\n",
    "        return val\n",
    "\n",
    "def gen_mask(mask):\n",
    "\n",
    "    # Transform your mask into a new one that will work with the function:\n",
    "    transformed_mask = np.ndarray((mask.shape[0],mask.shape[1]), np.int32)\n",
    "    for i in range(len(mask)):\n",
    "        transformed_mask[i] = list(map(transform_format, mask[i]))\n",
    "    return transformed_mask"
   ]
  },
  {
   "cell_type": "code",
   "execution_count": 102,
   "metadata": {},
   "outputs": [],
   "source": [
    "# Define masks for each category\n",
    "# we have 9 categories (except \"Andere\")\n",
    "\n",
    "#Business\n",
    "business_mask = np.array(Image.open(\"Images/business.png\"))\n",
    "#business_mask = business_mask.reshape((business_mask.shape[0],-1), order='F')\n",
    "#Hightech\n",
    "hightech_mask = np.array(Image.open(\"Images/hightech.png\"))\n",
    "#Inland\n",
    "#inland_mask = np.array(Image.open(\"Images/inland.png\"))\n",
    "#International\n",
    "#international_mask = np.array(Image.open(\"Images/international.png\"))\n",
    "#Leben\n",
    "#leben_mask = np.array(Image.open(\"Images/leben.png\"))\n",
    "#Medien\n",
    "medien_mask = np.array(Image.open(\"Images/medien.png\"))\n",
    "#Politik\n",
    "#politik_mask = np.array(Image.open(\"Images/politik.png\"))\n",
    "#Sport\n",
    "#sport_mask = np.array(Image.open(\"Images/sport.png\"))\n",
    "#Wirtschaft\n",
    "#wirtschaft_mask = np.array(Image.open(\"Images/wirtschaft.png\"))\n",
    "\n",
    "#transform masks for wordclouds\n",
    "transformed_business_mask      = business_mask[:,:,0]#gen_mask(business_mask)\n",
    "transformed_hightech_mask      = gen_mask(hightech_mask)#[:,:,0]\n",
    "#transformed_inland_mask        = gen_mask(inland_mask)\n",
    "#transformed_international_mask = gen_mask(international_mask)\n",
    "#transformed_leben_mask         = gen_mask(leben_mask)\n",
    "transformed_medien_mask        = gen_mask(medien_mask)\n",
    "#transformed_politik_mask       = gen_mask(politik_mask)\n",
    "#transformed_sport_mask         = gen_mask(sport_mask)\n",
    "#transformed_wirtschaft_mask    = gen_mask(wirtschaft_mask)"
   ]
  },
  {
   "cell_type": "code",
   "execution_count": 104,
   "metadata": {
    "colab": {},
    "colab_type": "code",
    "id": "wjp0rdzP2jAX",
    "outputId": "74e8c1a4-1a5a-4767-c73f-8e2bb0540e69"
   },
   "outputs": [
    {
     "name": "stderr",
     "output_type": "stream",
     "text": [
      "[nltk_data] Downloading package stopwords to /home/jens/nltk_data...\n",
      "[nltk_data]   Package stopwords is already up-to-date!\n"
     ]
    },
    {
     "data": {
      "image/png": "[encoded data removed]",
      "text/plain": [
       "<Figure size 864x1728 with 3 Axes>"
      ]
     },
     "metadata": {},
     "output_type": "display_data"
    }
   ],
   "source": [
    "# Create a word cloud image\n",
    "# Try some wordclouds\n",
    "import nltk\n",
    "nltk.download('stopwords')\n",
    "stopset = set(stopwords.words('german'))\n",
    "stopset.update([\"http\",\"www\",\"au\",\"al\",\"bi\",\"sowie\",\"etwa\",\"dabei\",\"die\",\"der\",\"seien\"\n",
    "                ,\"un\",\"de\",\"sei\",\"mehr\",\"als\",\"gibt\",\"es\",\"ja\",\"schon\",\"wurde\",\"wa\",\"sagte\"\n",
    "               ,\"schon\",\"hatte\",\"den\",\"am\",\"erklärt\",\"montag\",\"dienstag\",\"mittwoch\",\"donnerstag\",\"freitag\"\n",
    "               ,\"bereit\",\"sagt\",\"wurden\",\"allerdings\",\"beim\",\"von\",\"wegen\",\"allerding\"])\n",
    "\n",
    "def gen_wordcloud(input_mask, text):\n",
    "    wordcloud = WordCloud(background_color=\"white\", max_words=200, mask=input_mask,\n",
    "               stopwords=stopset, contour_width=3, contour_color='black')\n",
    "    # Generate a wordcloud\n",
    "    wordcloud.generate(text)\n",
    "    return wordcloud\n",
    "\n",
    "business_wordcloud      = gen_wordcloud(transformed_business_mask, text_clear_business)\n",
    "hightech_wordcloud      = gen_wordcloud(transformed_hightech_mask, text_clear_hightech)\n",
    "#inland_wordcloud        = gen_wordcloud(transformed_inland_mask, text_clear_inland)\n",
    "#international_wordcloud = gen_wordcloud(transformed_international_mask, text_clear_international)\n",
    "#leben_wordcloud         = gen_wordcloud(transformed_leben_mask, text_clear_leben)\n",
    "medien_wordcloud        = gen_wordcloud(transformed_medien_mask, text_clear_medien)\n",
    "#politik_wordcloud       = gen_wordcloud(transformed_politik_mask, text_clear_politik)\n",
    "#sport_wordcloud         = gen_wordcloud(transformed_sport_mask, text_clear_sport)\n",
    "#wirtschaft_wordcloud    = gen_wordcloud(transformed_wirtschaft_mask, text_clear_wirtschaft)\n",
    "\n",
    "# plot some woordclouds\n",
    "#cat_cl = [business_wordcloud, hightech_wordcloud, inland_wordcloud, international_wordcloud, leben_wordcloud\n",
    "#       , medien_wordcloud, politik_wordcloud, sport_wordcloud, wirtschaft_wordcloud]\n",
    "cat_cl = [business_wordcloud, hightech_wordcloud, medien_wordcloud]\n",
    "fig, axes = plt.subplots(1,3,figsize=(12,24),\n",
    "subplot_kw={'xticks':[], 'yticks':[]},\n",
    "gridspec_kw=dict(hspace=0.01, wspace=0.01))\n",
    "for i, ax in enumerate(axes.flat):\n",
    "    ax.imshow(cat_cl[i], interpolation='bilinear')\n",
    "    ax.axis(\"off\")"
   ]
  },
  {
   "cell_type": "markdown",
   "metadata": {},
   "source": [
    "### Is there a Gender Bias in the Categories?\n",
    "\n",
    "Analyse, whether some categories tend to write more about man or woman. In the German language this is difficult to distinguish. As a first step, the number of \"sie\" (\"she\") and \"er\" (\"he\") are counted for each category. However, this does not give a sophisticated value for a gender bias, since all plural nouns are addressed with \"sie\" aswell and also other things (not people) have a gender. However eye-catching is that for the category \"Leben\" (\"life\") is much more usage of the word \"sie\" than in all other categories. "
   ]
  },
  {
   "cell_type": "code",
   "execution_count": 201,
   "metadata": {},
   "outputs": [],
   "source": [
    "#Is there a difference between numbers of \"er\" und \"sie\" (oder ähnliches) in den Kategorien\n",
    "\n",
    "# \"er\", \"sie\" nicht geeignet, was könnte man sonst nehmen?\n",
    "\n",
    "def count_er_sie(text):\n",
    "    count_sie = 0\n",
    "    count_er  = 0\n",
    "    for i in text.split():\n",
    "        if i == \"sie\":\n",
    "            count_sie+=1\n",
    "        if i == \"er\":\n",
    "            count_er+=1\n",
    "    return count_sie, count_er"
   ]
  },
  {
   "cell_type": "code",
   "execution_count": 202,
   "metadata": {},
   "outputs": [
    {
     "name": "stdout",
     "output_type": "stream",
     "text": [
      "Number of 'sie' occurrences in 'Business': 13212\n",
      "Number of 'er' occurrences in 'Business': 9227\n",
      "Number of 'sie' occurrences 'Hightech': 5397\n",
      "Number of 'er' occurrences 'Hightech': 2207\n",
      "Number of 'sie' occurrences 'Inland': 7868\n",
      "Number of 'er' occurrences 'Inland': 7909\n",
      "Number of 'sie' occurrences 'International': 11879\n",
      "Number of 'er' occurrences 'International': 14258\n",
      "Number of 'sie' occurrences in 'Leben': 10707\n",
      "Number of 'er' occurrences in 'Leben': 2500\n",
      "Number of 'sie' occurrences in 'Medien': 6367\n",
      "Number of 'er' occurrences in 'Medien':1889\n",
      "Number of 'sie' occurrences in 'Politik': 3192\n",
      "Number of 'er' occurrences in 'Politik': 4193\n",
      "Number of 'sie' occurrences in 'Sport': 717\n",
      "Number of 'er' occurrences in 'Sport': 1043\n",
      "Number of 'sie' occurrences in 'Wirtschaft': 6986\n",
      "Number of 'er' occurrences in 'Wirtschaft': 4686\n"
     ]
    }
   ],
   "source": [
    "count_business_sie, count_business_er = count_er_sie(text_clear_business)\n",
    "print(\"Number of 'sie' occurrences in 'Business': {}\".format(count_business_sie))\n",
    "print(\"Number of 'er' occurrences in 'Business': {}\".format(count_business_er))\n",
    "count_hightech_sie, count_hightech_er = count_er_sie(text_clear_hightech)\n",
    "print(\"Number of 'sie' occurrences 'Hightech': {}\".format(count_hightech_sie))\n",
    "print(\"Number of 'er' occurrences 'Hightech': {}\".format(count_hightech_er))\n",
    "count_inland_sie, count_inland_er = count_er_sie(text_clear_inland)\n",
    "print(\"Number of 'sie' occurrences 'Inland': {}\".format(count_inland_sie))\n",
    "print(\"Number of 'er' occurrences 'Inland': {}\".format(count_inland_er))\n",
    "count_international_sie, count_international_er = count_er_sie(text_clear_international)\n",
    "print(\"Number of 'sie' occurrences 'International': {}\".format(count_international_sie))\n",
    "print(\"Number of 'er' occurrences 'International': {}\".format(count_international_er))\n",
    "count_leben_sie, count_leben_er = count_er_sie(text_clear_leben)\n",
    "print(\"Number of 'sie' occurrences in 'Leben': {}\".format(count_leben_sie))\n",
    "print(\"Number of 'er' occurrences in 'Leben': {}\".format(count_leben_er))\n",
    "count_medien_sie, count_medien_er = count_er_sie(text_clear_medien)\n",
    "print(\"Number of 'sie' occurrences in 'Medien': {}\".format(count_medien_sie))\n",
    "print(\"Number of 'er' occurrences in 'Medien':{}\".format(count_medien_er))\n",
    "count_politik_sie, count_politik_er = count_er_sie(text_clear_politik)\n",
    "print(\"Number of 'sie' occurrences in 'Politik': {}\".format(count_politik_sie))\n",
    "print(\"Number of 'er' occurrences in 'Politik': {}\".format(count_politik_er))\n",
    "count_sport_sie, count_sport_er = count_er_sie(text_clear_sport)\n",
    "print(\"Number of 'sie' occurrences in 'Sport': {}\".format(count_sport_sie))\n",
    "print(\"Number of 'er' occurrences in 'Sport': {}\".format(count_sport_er))\n",
    "count_wirtschaft_sie, count_wirtschaft_er = count_er_sie(text_clear_wirtschaft)\n",
    "print(\"Number of 'sie' occurrences in 'Wirtschaft': {}\".format(count_wirtschaft_sie))\n",
    "print(\"Number of 'er' occurrences in 'Wirtschaft': {}\".format(count_wirtschaft_er))"
   ]
  },
  {
   "cell_type": "code",
   "execution_count": 203,
   "metadata": {},
   "outputs": [
    {
     "data": {
      "text/html": [
       "<div>\n",
       "<style scoped>\n",
       "    .dataframe tbody tr th:only-of-type {\n",
       "        vertical-align: middle;\n",
       "    }\n",
       "\n",
       "    .dataframe tbody tr th {\n",
       "        vertical-align: top;\n",
       "    }\n",
       "\n",
       "    .dataframe thead th {\n",
       "        text-align: right;\n",
       "    }\n",
       "</style>\n",
       "<table border=\"1\" class=\"dataframe\">\n",
       "  <thead>\n",
       "    <tr style=\"text-align: right;\">\n",
       "      <th></th>\n",
       "      <th>sie</th>\n",
       "      <th>er</th>\n",
       "    </tr>\n",
       "    <tr>\n",
       "      <th>Kategorie</th>\n",
       "      <th></th>\n",
       "      <th></th>\n",
       "    </tr>\n",
       "  </thead>\n",
       "  <tbody>\n",
       "    <tr>\n",
       "      <th>Business</th>\n",
       "      <td>13212</td>\n",
       "      <td>9227</td>\n",
       "    </tr>\n",
       "    <tr>\n",
       "      <th>Hightech</th>\n",
       "      <td>5397</td>\n",
       "      <td>2207</td>\n",
       "    </tr>\n",
       "    <tr>\n",
       "      <th>Inland</th>\n",
       "      <td>7868</td>\n",
       "      <td>7909</td>\n",
       "    </tr>\n",
       "    <tr>\n",
       "      <th>International</th>\n",
       "      <td>11879</td>\n",
       "      <td>14258</td>\n",
       "    </tr>\n",
       "    <tr>\n",
       "      <th>Leben</th>\n",
       "      <td>10707</td>\n",
       "      <td>2500</td>\n",
       "    </tr>\n",
       "    <tr>\n",
       "      <th>Medien</th>\n",
       "      <td>6367</td>\n",
       "      <td>1889</td>\n",
       "    </tr>\n",
       "    <tr>\n",
       "      <th>Politik</th>\n",
       "      <td>3192</td>\n",
       "      <td>4193</td>\n",
       "    </tr>\n",
       "    <tr>\n",
       "      <th>Sport</th>\n",
       "      <td>717</td>\n",
       "      <td>1043</td>\n",
       "    </tr>\n",
       "    <tr>\n",
       "      <th>Wirtschaft</th>\n",
       "      <td>6986</td>\n",
       "      <td>4686</td>\n",
       "    </tr>\n",
       "  </tbody>\n",
       "</table>\n",
       "</div>"
      ],
      "text/plain": [
       "                 sie     er\n",
       "Kategorie                  \n",
       "Business       13212   9227\n",
       "Hightech        5397   2207\n",
       "Inland          7868   7909\n",
       "International  11879  14258\n",
       "Leben          10707   2500\n",
       "Medien          6367   1889\n",
       "Politik         3192   4193\n",
       "Sport            717   1043\n",
       "Wirtschaft      6986   4686"
      ]
     },
     "execution_count": 203,
     "metadata": {},
     "output_type": "execute_result"
    }
   ],
   "source": [
    "#save as dataframe\n",
    "categories = [\"Business\", \"Hightech\", \"Inland\", \"International\", \"Leben\", \"Medien\", \"Politik\", \"Sport\", \"Wirtschaft\"]\n",
    "data = {\"Kategorie\": categories, \"sie\": None, \"er\": None}\n",
    "er_sie_df = pd.DataFrame (data, columns = [\"Kategorie\", \"sie\", \"er\"]).set_index(\"Kategorie\")\n",
    "\n",
    "er_sie_df.loc[\"Business\",\"sie\"] = count_business_sie\n",
    "er_sie_df.loc[\"Business\",\"er\"] = count_business_er\n",
    "er_sie_df.loc[\"Hightech\",\"sie\"] = count_hightech_sie\n",
    "er_sie_df.loc[\"Hightech\",\"er\"] = count_hightech_er\n",
    "er_sie_df.loc[\"Inland\",\"sie\"] = count_inland_sie\n",
    "er_sie_df.loc[\"Inland\",\"er\"] = count_inland_er\n",
    "er_sie_df.loc[\"International\",\"sie\"] = count_international_sie\n",
    "er_sie_df.loc[\"International\",\"er\"] = count_international_er\n",
    "er_sie_df.loc[\"Leben\",\"sie\"] = count_leben_sie\n",
    "er_sie_df.loc[\"Leben\",\"er\"] = count_leben_er\n",
    "er_sie_df.loc[\"Medien\",\"sie\"] = count_medien_sie\n",
    "er_sie_df.loc[\"Medien\",\"er\"] = count_medien_er\n",
    "er_sie_df.loc[\"Politik\",\"sie\"] = count_politik_sie\n",
    "er_sie_df.loc[\"Politik\",\"er\"] = count_politik_er\n",
    "er_sie_df.loc[\"Sport\",\"sie\"] = count_sport_sie\n",
    "er_sie_df.loc[\"Sport\",\"er\"] = count_sport_er\n",
    "er_sie_df.loc[\"Wirtschaft\",\"sie\"] = count_wirtschaft_sie\n",
    "er_sie_df.loc[\"Wirtschaft\",\"er\"] = count_wirtschaft_er\n",
    "er_sie_df"
   ]
  },
  {
   "cell_type": "code",
   "execution_count": 204,
   "metadata": {},
   "outputs": [
    {
     "data": {
      "image/png": "[encoded data removed]",
      "text/plain": [
       "<Figure size 720x360 with 1 Axes>"
      ]
     },
     "metadata": {
      "needs_background": "light"
     },
     "output_type": "display_data"
    }
   ],
   "source": [
    "labels = ['Business', 'Hightech', 'Inland', 'International', 'Leben', 'Medien', 'Politik', 'Sport', 'Wirtschaft']\n",
    "\n",
    "x = np.arange(len(labels))  # the label locations\n",
    "width = 0.35  # the width of the bars\n",
    "\n",
    "fig, ax = plt.subplots(figsize=(10,5))\n",
    "rects1 = ax.bar(x - width/2, er_sie_df['sie'], width, label='sie')\n",
    "rects2 = ax.bar(x + width/2, er_sie_df['er'], width, label='er')\n",
    "\n",
    "# Add some text for labels, title and custom x-axis tick labels, etc.\n",
    "ax.set_ylabel('counts')\n",
    "ax.set_title('counts of words \"sie\" and \"er\" in each category')\n",
    "ax.set_xticks(x)\n",
    "ax.set_xticklabels(labels)\n",
    "ax.legend()\n",
    "\n",
    "\n",
    "def autolabel(rects):\n",
    "    \"\"\"Attach a text label above each bar in *rects*, displaying its height.\"\"\"\n",
    "    for rect in rects:\n",
    "        height = rect.get_height()\n",
    "        ax.annotate('{}'.format(height),\n",
    "                    xy=(rect.get_x() + rect.get_width() / 2, height),\n",
    "                    xytext=(0, 3),  # 3 points vertical offset\n",
    "                    textcoords=\"offset points\",\n",
    "                    ha='center', va='bottom')\n",
    "\n",
    "\n",
    "autolabel(rects1)\n",
    "autolabel(rects2)\n",
    "\n",
    "fig.tight_layout()\n",
    "\n",
    "plt.show()"
   ]
  },
  {
   "cell_type": "markdown",
   "metadata": {},
   "source": [
    "### Time development\n",
    "\n",
    "What is the distribution over time? For which time period do we have data and is it equally distributed? The barplot shows the number of articles we have for each year. From 2013 on we have more data available. "
   ]
  },
  {
   "cell_type": "code",
   "execution_count": 205,
   "metadata": {
    "scrolled": true
   },
   "outputs": [
    {
     "data": {
      "text/plain": [
       "array(['2018-01-18 00:00:00', '2018-01-17 00:00:00',\n",
       "       '2018-01-12 00:00:00', ..., '2018-03-02 00:00:00',\n",
       "       '2018-02-17 00:00:00', '2018-02-03 00:00:00'], dtype=object)"
      ]
     },
     "execution_count": 205,
     "metadata": {},
     "output_type": "execute_result"
    }
   ],
   "source": [
    "news_cat[\"Datum\"].unique()"
   ]
  },
  {
   "cell_type": "code",
   "execution_count": 206,
   "metadata": {},
   "outputs": [
    {
     "data": {
      "text/html": [
       "<div>\n",
       "<style scoped>\n",
       "    .dataframe tbody tr th:only-of-type {\n",
       "        vertical-align: middle;\n",
       "    }\n",
       "\n",
       "    .dataframe tbody tr th {\n",
       "        vertical-align: top;\n",
       "    }\n",
       "\n",
       "    .dataframe thead th {\n",
       "        text-align: right;\n",
       "    }\n",
       "</style>\n",
       "<table border=\"1\" class=\"dataframe\">\n",
       "  <thead>\n",
       "    <tr style=\"text-align: right;\">\n",
       "      <th></th>\n",
       "      <th>index</th>\n",
       "      <th>id</th>\n",
       "      <th>url</th>\n",
       "      <th>Titel</th>\n",
       "      <th>Body</th>\n",
       "      <th>Kategorie</th>\n",
       "      <th>Datum</th>\n",
       "      <th>Quelle</th>\n",
       "      <th>Fake</th>\n",
       "      <th>Body_length</th>\n",
       "    </tr>\n",
       "  </thead>\n",
       "  <tbody>\n",
       "    <tr>\n",
       "      <th>0</th>\n",
       "      <td>0</td>\n",
       "      <td>773233</td>\n",
       "      <td>http://www.der-postillon.com/2018/01/grokoleak...</td>\n",
       "      <td>Exklusiv! Das geheime WhatsApp-Chat-Protokoll ...</td>\n",
       "      <td>Die Sondierungsgespräche zwischen Union und SP...</td>\n",
       "      <td>Wirtschaft</td>\n",
       "      <td>2018-01-18 00:00:00</td>\n",
       "      <td>Postillion</td>\n",
       "      <td>1</td>\n",
       "      <td>160.0</td>\n",
       "    </tr>\n",
       "    <tr>\n",
       "      <th>1</th>\n",
       "      <td>1</td>\n",
       "      <td>773234</td>\n",
       "      <td>http://www.der-postillon.com/2018/01/trump-san...</td>\n",
       "      <td>Trump droht, jeden zu verspeisen, der an seine...</td>\n",
       "      <td>Nun ist es auch medizinisch offiziell bestätig...</td>\n",
       "      <td>Wirtschaft</td>\n",
       "      <td>2018-01-17 00:00:00</td>\n",
       "      <td>Postillion</td>\n",
       "      <td>1</td>\n",
       "      <td>248.0</td>\n",
       "    </tr>\n",
       "    <tr>\n",
       "      <th>2</th>\n",
       "      <td>2</td>\n",
       "      <td>773235</td>\n",
       "      <td>http://www.der-postillon.com/2018/01/fdp-sondi...</td>\n",
       "      <td>Soli runter, keine Steuererhöhungen, kein Klim...</td>\n",
       "      <td>Es waren zähe Verhandlungen, doch die Freien D...</td>\n",
       "      <td>Wirtschaft</td>\n",
       "      <td>2018-01-12 00:00:00</td>\n",
       "      <td>Postillion</td>\n",
       "      <td>1</td>\n",
       "      <td>264.0</td>\n",
       "    </tr>\n",
       "    <tr>\n",
       "      <th>3</th>\n",
       "      <td>3</td>\n",
       "      <td>773236</td>\n",
       "      <td>http://www.der-postillon.com/2018/01/joachim-s...</td>\n",
       "      <td>Hat sie eine Affäre? Joachim Sauer glaubt Ange...</td>\n",
       "      <td>Wo treibt sie sich immer bis spät in die Nacht...</td>\n",
       "      <td>Wirtschaft</td>\n",
       "      <td>2018-01-09 00:00:00</td>\n",
       "      <td>Postillion</td>\n",
       "      <td>1</td>\n",
       "      <td>290.0</td>\n",
       "    </tr>\n",
       "    <tr>\n",
       "      <th>4</th>\n",
       "      <td>4</td>\n",
       "      <td>773237</td>\n",
       "      <td>http://www.der-postillon.com/2018/01/halb-so-s...</td>\n",
       "      <td>\"Er hat ja nur HALBneger gesagt\": So begründet...</td>\n",
       "      <td>Der Parteivorstand drückt nochmal ein Auge zu:...</td>\n",
       "      <td>Wirtschaft</td>\n",
       "      <td>2018-01-08 00:00:00</td>\n",
       "      <td>Postillion</td>\n",
       "      <td>1</td>\n",
       "      <td>163.0</td>\n",
       "    </tr>\n",
       "  </tbody>\n",
       "</table>\n",
       "</div>"
      ],
      "text/plain": [
       "   index      id                                                url  \\\n",
       "0      0  773233  http://www.der-postillon.com/2018/01/grokoleak...   \n",
       "1      1  773234  http://www.der-postillon.com/2018/01/trump-san...   \n",
       "2      2  773235  http://www.der-postillon.com/2018/01/fdp-sondi...   \n",
       "3      3  773236  http://www.der-postillon.com/2018/01/joachim-s...   \n",
       "4      4  773237  http://www.der-postillon.com/2018/01/halb-so-s...   \n",
       "\n",
       "                                               Titel  \\\n",
       "0  Exklusiv! Das geheime WhatsApp-Chat-Protokoll ...   \n",
       "1  Trump droht, jeden zu verspeisen, der an seine...   \n",
       "2  Soli runter, keine Steuererhöhungen, kein Klim...   \n",
       "3  Hat sie eine Affäre? Joachim Sauer glaubt Ange...   \n",
       "4  \"Er hat ja nur HALBneger gesagt\": So begründet...   \n",
       "\n",
       "                                                Body   Kategorie  \\\n",
       "0  Die Sondierungsgespräche zwischen Union und SP...  Wirtschaft   \n",
       "1  Nun ist es auch medizinisch offiziell bestätig...  Wirtschaft   \n",
       "2  Es waren zähe Verhandlungen, doch die Freien D...  Wirtschaft   \n",
       "3  Wo treibt sie sich immer bis spät in die Nacht...  Wirtschaft   \n",
       "4  Der Parteivorstand drückt nochmal ein Auge zu:...  Wirtschaft   \n",
       "\n",
       "                 Datum      Quelle  Fake  Body_length  \n",
       "0  2018-01-18 00:00:00  Postillion     1        160.0  \n",
       "1  2018-01-17 00:00:00  Postillion     1        248.0  \n",
       "2  2018-01-12 00:00:00  Postillion     1        264.0  \n",
       "3  2018-01-09 00:00:00  Postillion     1        290.0  \n",
       "4  2018-01-08 00:00:00  Postillion     1        163.0  "
      ]
     },
     "execution_count": 206,
     "metadata": {},
     "output_type": "execute_result"
    }
   ],
   "source": [
    "for i in range(news_cat.shape[0]):\n",
    "    datetime.strptime(news_cat[\"Datum\"][i],'%Y-%m-%d %H:%M:%S')\n",
    "news_cat.head()"
   ]
  },
  {
   "cell_type": "code",
   "execution_count": 142,
   "metadata": {},
   "outputs": [
    {
     "data": {
      "text/html": [
       "<div>\n",
       "<style scoped>\n",
       "    .dataframe tbody tr th:only-of-type {\n",
       "        vertical-align: middle;\n",
       "    }\n",
       "\n",
       "    .dataframe tbody tr th {\n",
       "        vertical-align: top;\n",
       "    }\n",
       "\n",
       "    .dataframe thead th {\n",
       "        text-align: right;\n",
       "    }\n",
       "</style>\n",
       "<table border=\"1\" class=\"dataframe\">\n",
       "  <thead>\n",
       "    <tr style=\"text-align: right;\">\n",
       "      <th></th>\n",
       "      <th>index</th>\n",
       "      <th>id</th>\n",
       "      <th>url</th>\n",
       "      <th>Titel</th>\n",
       "      <th>Body</th>\n",
       "      <th>Kategorie</th>\n",
       "      <th>Datum</th>\n",
       "      <th>Quelle</th>\n",
       "      <th>Fake</th>\n",
       "      <th>Body_length</th>\n",
       "    </tr>\n",
       "  </thead>\n",
       "  <tbody>\n",
       "    <tr>\n",
       "      <th>0</th>\n",
       "      <td>0</td>\n",
       "      <td>773233</td>\n",
       "      <td>http://www.der-postillon.com/2018/01/grokoleak...</td>\n",
       "      <td>Exklusiv! Das geheime WhatsApp-Chat-Protokoll ...</td>\n",
       "      <td>Die Sondierungsgespräche zwischen Union und SP...</td>\n",
       "      <td>Wirtschaft</td>\n",
       "      <td>2018-01-18 00:00:00</td>\n",
       "      <td>Postillion</td>\n",
       "      <td>1</td>\n",
       "      <td>160.0</td>\n",
       "    </tr>\n",
       "    <tr>\n",
       "      <th>1</th>\n",
       "      <td>1</td>\n",
       "      <td>773234</td>\n",
       "      <td>http://www.der-postillon.com/2018/01/trump-san...</td>\n",
       "      <td>Trump droht, jeden zu verspeisen, der an seine...</td>\n",
       "      <td>Nun ist es auch medizinisch offiziell bestätig...</td>\n",
       "      <td>Wirtschaft</td>\n",
       "      <td>2018-01-17 00:00:00</td>\n",
       "      <td>Postillion</td>\n",
       "      <td>1</td>\n",
       "      <td>248.0</td>\n",
       "    </tr>\n",
       "    <tr>\n",
       "      <th>2</th>\n",
       "      <td>2</td>\n",
       "      <td>773235</td>\n",
       "      <td>http://www.der-postillon.com/2018/01/fdp-sondi...</td>\n",
       "      <td>Soli runter, keine Steuererhöhungen, kein Klim...</td>\n",
       "      <td>Es waren zähe Verhandlungen, doch die Freien D...</td>\n",
       "      <td>Wirtschaft</td>\n",
       "      <td>2018-01-12 00:00:00</td>\n",
       "      <td>Postillion</td>\n",
       "      <td>1</td>\n",
       "      <td>264.0</td>\n",
       "    </tr>\n",
       "    <tr>\n",
       "      <th>3</th>\n",
       "      <td>3</td>\n",
       "      <td>773236</td>\n",
       "      <td>http://www.der-postillon.com/2018/01/joachim-s...</td>\n",
       "      <td>Hat sie eine Affäre? Joachim Sauer glaubt Ange...</td>\n",
       "      <td>Wo treibt sie sich immer bis spät in die Nacht...</td>\n",
       "      <td>Wirtschaft</td>\n",
       "      <td>2018-01-09 00:00:00</td>\n",
       "      <td>Postillion</td>\n",
       "      <td>1</td>\n",
       "      <td>290.0</td>\n",
       "    </tr>\n",
       "    <tr>\n",
       "      <th>4</th>\n",
       "      <td>4</td>\n",
       "      <td>773237</td>\n",
       "      <td>http://www.der-postillon.com/2018/01/halb-so-s...</td>\n",
       "      <td>\"Er hat ja nur HALBneger gesagt\": So begründet...</td>\n",
       "      <td>Der Parteivorstand drückt nochmal ein Auge zu:...</td>\n",
       "      <td>Wirtschaft</td>\n",
       "      <td>2018-01-08 00:00:00</td>\n",
       "      <td>Postillion</td>\n",
       "      <td>1</td>\n",
       "      <td>163.0</td>\n",
       "    </tr>\n",
       "  </tbody>\n",
       "</table>\n",
       "</div>"
      ],
      "text/plain": [
       "   index      id                                                url  \\\n",
       "0      0  773233  http://www.der-postillon.com/2018/01/grokoleak...   \n",
       "1      1  773234  http://www.der-postillon.com/2018/01/trump-san...   \n",
       "2      2  773235  http://www.der-postillon.com/2018/01/fdp-sondi...   \n",
       "3      3  773236  http://www.der-postillon.com/2018/01/joachim-s...   \n",
       "4      4  773237  http://www.der-postillon.com/2018/01/halb-so-s...   \n",
       "\n",
       "                                               Titel  \\\n",
       "0  Exklusiv! Das geheime WhatsApp-Chat-Protokoll ...   \n",
       "1  Trump droht, jeden zu verspeisen, der an seine...   \n",
       "2  Soli runter, keine Steuererhöhungen, kein Klim...   \n",
       "3  Hat sie eine Affäre? Joachim Sauer glaubt Ange...   \n",
       "4  \"Er hat ja nur HALBneger gesagt\": So begründet...   \n",
       "\n",
       "                                                Body   Kategorie  \\\n",
       "0  Die Sondierungsgespräche zwischen Union und SP...  Wirtschaft   \n",
       "1  Nun ist es auch medizinisch offiziell bestätig...  Wirtschaft   \n",
       "2  Es waren zähe Verhandlungen, doch die Freien D...  Wirtschaft   \n",
       "3  Wo treibt sie sich immer bis spät in die Nacht...  Wirtschaft   \n",
       "4  Der Parteivorstand drückt nochmal ein Auge zu:...  Wirtschaft   \n",
       "\n",
       "                 Datum      Quelle  Fake  Body_length  \n",
       "0  2018-01-18 00:00:00  Postillion     1        160.0  \n",
       "1  2018-01-17 00:00:00  Postillion     1        248.0  \n",
       "2  2018-01-12 00:00:00  Postillion     1        264.0  \n",
       "3  2018-01-09 00:00:00  Postillion     1        290.0  \n",
       "4  2018-01-08 00:00:00  Postillion     1        163.0  "
      ]
     },
     "execution_count": 142,
     "metadata": {},
     "output_type": "execute_result"
    }
   ],
   "source": [
    "for i in range(news_cat.shape[0]):\n",
    "    pd.to_datetime(news_cat.loc[i,'Datum'])\n",
    "news_cat.head()"
   ]
  },
  {
   "cell_type": "code",
   "execution_count": 213,
   "metadata": {},
   "outputs": [],
   "source": [
    "# change type of \"Datum\" to DatetimeIndex\n",
    "news_cat['Datum'] = pd.DatetimeIndex(news_cat['Datum'])"
   ]
  },
  {
   "cell_type": "code",
   "execution_count": null,
   "metadata": {},
   "outputs": [],
   "source": [
    "# set \"Datum\" as index\n",
    "news_cat.set_index(\"Datum\", inplace=True)"
   ]
  },
  {
   "cell_type": "code",
   "execution_count": 225,
   "metadata": {},
   "outputs": [
    {
     "data": {
      "text/plain": [
       "Datum\n",
       "2008-12-31     2505\n",
       "2009-12-31     2933\n",
       "2010-12-31     2817\n",
       "2011-12-31     3124\n",
       "2012-12-31     2941\n",
       "2013-12-31    10107\n",
       "2014-12-31     8133\n",
       "2015-12-31     7641\n",
       "2016-12-31     8647\n",
       "2017-12-31     8943\n",
       "2018-12-31     4755\n",
       "Freq: A-DEC, Name: index, dtype: int64"
      ]
     },
     "execution_count": 225,
     "metadata": {},
     "output_type": "execute_result"
    }
   ],
   "source": [
    "# count articles per year\n",
    "news_cat.resample('Y')[\"index\"].count()"
   ]
  },
  {
   "cell_type": "code",
   "execution_count": 227,
   "metadata": {
    "scrolled": true
   },
   "outputs": [
    {
     "data": {
      "image/png": "[encoded data removed]",
      "text/plain": [
       "<Figure size 1080x360 with 1 Axes>"
      ]
     },
     "metadata": {
      "needs_background": "light"
     },
     "output_type": "display_data"
    }
   ],
   "source": [
    "yrs = [2008, 2009, 2010, 2011, 2012, 2013, 2014, 2015, 2016, 2017, 2018]\n",
    "plt.figure(figsize=(15,5))\n",
    "#chart = sns.barplot(x=mean_words[\"Kategorie\"],y=mean_words[\"Body_length\"]);\n",
    "chart = sns.barplot(x= yrs,y=news_cat.resample('Y')[\"index\"].count());\n",
    "chart.set_xticklabels(chart.get_xticklabels(), rotation=45, horizontalalignment='right');\n",
    "#sns.countplot(news_cat.resample('M')[\"index\"].count());"
   ]
  },
  {
   "cell_type": "markdown",
   "metadata": {
    "colab_type": "text",
    "id": "l23d-n3w2jAf"
   },
   "source": [
    "# Feature Engeneering\n",
    "\n",
    "1. For the prediction fake vs. no fake, the target is already given in the dataframe. Use the news_fake dataframe for predective modelling and the column \"Fake\" as a target. Use the columns \"Titel\" and \"Body\" as features.\n",
    "\n",
    "2. For the second objective, we want to distinguish between the categories in the prediction. Since we consider 9 categories plus \"Andere\" this feature would have 10 classes. As a first step we will create this column and have a look how many observations we have for each class. \n",
    "\n",
    "## Fake vs. no Fake Prediction"
   ]
  },
  {
   "cell_type": "markdown",
   "metadata": {},
   "source": [
    "### Define the Target Classes\n",
    "\n",
    "We have seen that the two categories are very unbalanced. We therefore downsample the no-fake category. After that we are left with 4627 fake and 4627 no-fake observations. Then we perform a train test split."
   ]
  },
  {
   "cell_type": "code",
   "execution_count": 37,
   "metadata": {},
   "outputs": [
    {
     "name": "stdout",
     "output_type": "stream",
     "text": [
      "Random under-sampling:\n",
      "1    4627\n",
      "0    4627\n",
      "Name: Fake, dtype: int64\n"
     ]
    },
    {
     "data": {
      "text/plain": [
       "1    3705\n",
       "0    3698\n",
       "Name: Fake, dtype: int64"
      ]
     },
     "execution_count": 37,
     "metadata": {},
     "output_type": "execute_result"
    },
    {
     "data": {
      "image/png": "[encoded data removed]",
      "text/plain": [
       "<Figure size 432x288 with 1 Axes>"
      ]
     },
     "metadata": {
      "needs_background": "light"
     },
     "output_type": "display_data"
    }
   ],
   "source": [
    "#sampling\n",
    "\n",
    "# Class count\n",
    "count_class_0, count_class_1 = news_fake[\"Fake\"].value_counts()\n",
    "\n",
    "# Divide by class\n",
    "news_fake_class_0 = news_fake[news_fake['Fake'] == 0]\n",
    "news_fake_class_1 = news_fake[news_fake['Fake'] == 1]\n",
    "\n",
    "news_fake_class_0_under = news_fake_class_0.sample(count_class_1)\n",
    "news_fake_test_under = pd.concat([news_fake_class_0_under, news_fake_class_1], axis=0)\n",
    "\n",
    "print('Random under-sampling:')\n",
    "print(news_fake_test_under.Fake.value_counts())\n",
    "\n",
    "news_fake_test_under.Fake.value_counts().plot(kind='bar', title='Count (target)');\n",
    "text_train, text_test, y_train, y_test = train_test_split(news_fake_test_under[\"Titel\"]+news_fake_test_under[\"Body\"], news_fake_test_under[\"Fake\"], test_size=0.2, random_state=42)\n",
    "y_train.value_counts()"
   ]
  },
  {
   "cell_type": "code",
   "execution_count": 38,
   "metadata": {},
   "outputs": [
    {
     "data": {
      "text/html": [
       "<div>\n",
       "<style scoped>\n",
       "    .dataframe tbody tr th:only-of-type {\n",
       "        vertical-align: middle;\n",
       "    }\n",
       "\n",
       "    .dataframe tbody tr th {\n",
       "        vertical-align: top;\n",
       "    }\n",
       "\n",
       "    .dataframe thead th {\n",
       "        text-align: right;\n",
       "    }\n",
       "</style>\n",
       "<table border=\"1\" class=\"dataframe\">\n",
       "  <thead>\n",
       "    <tr style=\"text-align: right;\">\n",
       "      <th></th>\n",
       "      <th>index</th>\n",
       "      <th>id</th>\n",
       "      <th>url</th>\n",
       "      <th>Titel</th>\n",
       "      <th>Body</th>\n",
       "      <th>Kategorie</th>\n",
       "      <th>Datum</th>\n",
       "      <th>Quelle</th>\n",
       "      <th>Fake</th>\n",
       "    </tr>\n",
       "  </thead>\n",
       "  <tbody>\n",
       "    <tr>\n",
       "      <th>0</th>\n",
       "      <td>18823</td>\n",
       "      <td>792292</td>\n",
       "      <td>https://de.reuters.com/article/nepal-erdbeben2...</td>\n",
       "      <td>Neues Erdbeben in Nepal - Wieder Tote und Verl...</td>\n",
       "      <td>Zwei Wochen nach dem verheerenden Erdbeben mit...</td>\n",
       "      <td>International</td>\n",
       "      <td>2015-05-12 00:00:00</td>\n",
       "      <td>Reuters</td>\n",
       "      <td>0</td>\n",
       "    </tr>\n",
       "    <tr>\n",
       "      <th>1</th>\n",
       "      <td>33327</td>\n",
       "      <td>807000</td>\n",
       "      <td>https://de.reuters.com/article/deutschland-pfe...</td>\n",
       "      <td>Pferdefleisch-Skandal erreicht Deutschland und...</td>\n",
       "      <td>Der Skandal um nicht deklariertes Pferdefleisc...</td>\n",
       "      <td>Inland</td>\n",
       "      <td>2013-02-13 00:00:00</td>\n",
       "      <td>Reuters</td>\n",
       "      <td>0</td>\n",
       "    </tr>\n",
       "    <tr>\n",
       "      <th>2</th>\n",
       "      <td>36326</td>\n",
       "      <td>810051</td>\n",
       "      <td>https://www.eine-zeitung.net/2017/12/30/univer...</td>\n",
       "      <td>Universum führt “Leben auf Probe” ein</td>\n",
       "      <td>Künftig leben alle Lebewesen zunächst nur zur ...</td>\n",
       "      <td>NaN</td>\n",
       "      <td>2018-01-04 00:00:00</td>\n",
       "      <td>Einezeitung</td>\n",
       "      <td>1</td>\n",
       "    </tr>\n",
       "    <tr>\n",
       "      <th>3</th>\n",
       "      <td>52607</td>\n",
       "      <td>826537</td>\n",
       "      <td>https://www.pressetext.com/news/20101120004</td>\n",
       "      <td>Kein Platz mehr: Der Web-2.0-Himmel ist voll!</td>\n",
       "      <td>Kaum Chancen für Start-ups, Online-Welt auf we...</td>\n",
       "      <td>Medien</td>\n",
       "      <td>2010-11-20 00:00:00</td>\n",
       "      <td>Pressetext</td>\n",
       "      <td>0</td>\n",
       "    </tr>\n",
       "    <tr>\n",
       "      <th>4</th>\n",
       "      <td>36476</td>\n",
       "      <td>810202</td>\n",
       "      <td>https://www.eine-zeitung.net/2017/05/19/trump-...</td>\n",
       "      <td>Trump unternimmt eigenen Angaben zufolge “größ...</td>\n",
       "      <td>Washington, D.C.  19. Mai 2017  Heute bricht D...</td>\n",
       "      <td>NaN</td>\n",
       "      <td>2017-05-19 00:00:00</td>\n",
       "      <td>Einezeitung</td>\n",
       "      <td>1</td>\n",
       "    </tr>\n",
       "  </tbody>\n",
       "</table>\n",
       "</div>"
      ],
      "text/plain": [
       "   index      id                                                url  \\\n",
       "0  18823  792292  https://de.reuters.com/article/nepal-erdbeben2...   \n",
       "1  33327  807000  https://de.reuters.com/article/deutschland-pfe...   \n",
       "2  36326  810051  https://www.eine-zeitung.net/2017/12/30/univer...   \n",
       "3  52607  826537        https://www.pressetext.com/news/20101120004   \n",
       "4  36476  810202  https://www.eine-zeitung.net/2017/05/19/trump-...   \n",
       "\n",
       "                                               Titel  \\\n",
       "0  Neues Erdbeben in Nepal - Wieder Tote und Verl...   \n",
       "1  Pferdefleisch-Skandal erreicht Deutschland und...   \n",
       "2              Universum führt “Leben auf Probe” ein   \n",
       "3      Kein Platz mehr: Der Web-2.0-Himmel ist voll!   \n",
       "4  Trump unternimmt eigenen Angaben zufolge “größ...   \n",
       "\n",
       "                                                Body      Kategorie  \\\n",
       "0  Zwei Wochen nach dem verheerenden Erdbeben mit...  International   \n",
       "1  Der Skandal um nicht deklariertes Pferdefleisc...         Inland   \n",
       "2  Künftig leben alle Lebewesen zunächst nur zur ...            NaN   \n",
       "3  Kaum Chancen für Start-ups, Online-Welt auf we...         Medien   \n",
       "4  Washington, D.C.  19. Mai 2017  Heute bricht D...            NaN   \n",
       "\n",
       "                 Datum       Quelle  Fake  \n",
       "0  2015-05-12 00:00:00      Reuters     0  \n",
       "1  2013-02-13 00:00:00      Reuters     0  \n",
       "2  2018-01-04 00:00:00  Einezeitung     1  \n",
       "3  2010-11-20 00:00:00   Pressetext     0  \n",
       "4  2017-05-19 00:00:00  Einezeitung     1  "
      ]
     },
     "execution_count": 38,
     "metadata": {},
     "output_type": "execute_result"
    }
   ],
   "source": [
    "# shuffle the data\n",
    "news_fake_test_under = news_fake_test_under.sample(frac=1).reset_index(drop=True)\n",
    "news_fake_test_under.head()"
   ]
  },
  {
   "cell_type": "markdown",
   "metadata": {},
   "source": [
    "### Vectorize Text "
   ]
  },
  {
   "cell_type": "code",
   "execution_count": 39,
   "metadata": {},
   "outputs": [],
   "source": [
    "vect = CountVectorizer(ngram_range=(1, 2),stop_words=None,lowercase=True,max_df=0.8, min_df=20)\n",
    "tfidf = TfidfTransformer()"
   ]
  },
  {
   "cell_type": "code",
   "execution_count": 40,
   "metadata": {},
   "outputs": [],
   "source": [
    "pipe_lr = Pipeline([\n",
    "    ('vect',vect),\n",
    "    ('tfidf',tfidf)\n",
    "    ])"
   ]
  },
  {
   "cell_type": "code",
   "execution_count": 41,
   "metadata": {
    "scrolled": true
   },
   "outputs": [
    {
     "name": "stdout",
     "output_type": "stream",
     "text": [
      "17122\n"
     ]
    }
   ],
   "source": [
    "pipe_lr.fit(text_train, y_train)\n",
    "print(len(vect.vocabulary_))"
   ]
  },
  {
   "cell_type": "code",
   "execution_count": 42,
   "metadata": {},
   "outputs": [],
   "source": [
    "text_transform_train = pipe_lr.transform(text_train).toarray();\n",
    "text_transform_test = pipe_lr.transform(text_test).toarray();"
   ]
  },
  {
   "cell_type": "markdown",
   "metadata": {},
   "source": [
    "## Category Prediction\n",
    "\n",
    "### Define the Target Classes\n",
    "\n",
    "* Define a new column, that has 10 classes, one for each category.\n",
    "* Remeber the categories: 'Business', 'International','Andere', 'Leben', 'Wirtschaft', 'Inland', 'Highland', 'Medien', 'Politik', 'Sport'\n",
    "* First have a look at the number of articles in each category and balance the dataset. The dataset is unbalanced. We choose the class with the lowest number of articles and sample this number from the other classses"
   ]
  },
  {
   "cell_type": "code",
   "execution_count": 68,
   "metadata": {},
   "outputs": [
    {
     "data": {
      "text/plain": [
       "Business         14635\n",
       "International    10485\n",
       "Andere            7236\n",
       "Leben             6436\n",
       "Wirtschaft        6156\n",
       "Inland            5577\n",
       "Hightech          4842\n",
       "Medien            4683\n",
       "Politik           1836\n",
       "Sport              660\n",
       "Name: Kategorie, dtype: int64"
      ]
     },
     "execution_count": 68,
     "metadata": {},
     "output_type": "execute_result"
    }
   ],
   "source": [
    "# How many articles of each category are in the dataset?\n",
    "news_cat[\"Kategorie\"].value_counts()"
   ]
  },
  {
   "cell_type": "code",
   "execution_count": 69,
   "metadata": {},
   "outputs": [
    {
     "name": "stdout",
     "output_type": "stream",
     "text": [
      "Minimum number of words in category: 660\n"
     ]
    }
   ],
   "source": [
    "min_words = news_cat[\"Kategorie\"].value_counts().min()\n",
    "print(\"Minimum number of words in category: \" + str(min_words))"
   ]
  },
  {
   "cell_type": "code",
   "execution_count": 70,
   "metadata": {},
   "outputs": [
    {
     "name": "stdout",
     "output_type": "stream",
     "text": [
      "Random under-sampling:\n",
      "Business         660\n",
      "Wirtschaft       660\n",
      "Inland           660\n",
      "Hightech         660\n",
      "Medien           660\n",
      "International    660\n",
      "Politik          660\n",
      "Sport            660\n",
      "Leben            660\n",
      "Andere           660\n",
      "Name: Kategorie, dtype: int64\n"
     ]
    },
    {
     "data": {
      "text/plain": [
       "International    542\n",
       "Hightech         539\n",
       "Medien           537\n",
       "Inland           533\n",
       "Leben            533\n",
       "Wirtschaft       525\n",
       "Andere           522\n",
       "Politik          521\n",
       "Sport            520\n",
       "Business         508\n",
       "Name: Kategorie, dtype: int64"
      ]
     },
     "execution_count": 70,
     "metadata": {},
     "output_type": "execute_result"
    },
    {
     "data": {
      "image/png": "[encoded data removed]",
      "text/plain": [
       "<Figure size 432x288 with 1 Axes>"
      ]
     },
     "metadata": {
      "needs_background": "light"
     },
     "output_type": "display_data"
    }
   ],
   "source": [
    "#sampling\n",
    "\n",
    "# Class count\n",
    "count_class_0, count_class_1, count_class_2, count_class_3, count_class_4, count_class_5, count_class_6, count_class_7, count_class_8, count_class_9 = news_cat[\"Kategorie\"].value_counts()\n",
    "\n",
    "# Divide by class\n",
    "news_cat_class_0 = news_cat[news_cat['Kategorie'] == \"Business\"]\n",
    "news_cat_class_1 = news_cat[news_cat['Kategorie'] == \"International\"]\n",
    "news_cat_class_2 = news_cat[news_cat['Kategorie'] == \"Andere\"]\n",
    "news_cat_class_3 = news_cat[news_cat['Kategorie'] == \"Leben\"]\n",
    "news_cat_class_4 = news_cat[news_cat['Kategorie'] == \"Wirtschaft\"]\n",
    "news_cat_class_5 = news_cat[news_cat['Kategorie'] == \"Inland\"]\n",
    "news_cat_class_6 = news_cat[news_cat['Kategorie'] == \"Hightech\"]\n",
    "news_cat_class_7 = news_cat[news_cat['Kategorie'] == \"Medien\"]\n",
    "news_cat_class_8 = news_cat[news_cat['Kategorie'] == \"Politik\"]\n",
    "news_cat_class_9 = news_cat[news_cat['Kategorie'] == \"Sport\"]\n",
    "\n",
    "news_cat_class_0_under = news_cat_class_0.sample(min_words)\n",
    "news_cat_class_1_under = news_cat_class_1.sample(min_words)\n",
    "news_cat_class_2_under = news_cat_class_2.sample(min_words)\n",
    "news_cat_class_3_under = news_cat_class_3.sample(min_words)\n",
    "news_cat_class_4_under = news_cat_class_4.sample(min_words)\n",
    "news_cat_class_5_under = news_cat_class_5.sample(min_words)\n",
    "news_cat_class_6_under = news_cat_class_6.sample(min_words)\n",
    "news_cat_class_7_under = news_cat_class_7.sample(min_words)\n",
    "news_cat_class_8_under = news_cat_class_8.sample(min_words)\n",
    "news_cat_class_9_under = news_cat_class_9.sample(min_words)\n",
    "news_cat_test_under = pd.concat([news_cat_class_0_under, news_cat_class_1_under, news_cat_class_2_under, news_cat_class_3_under, news_cat_class_4_under, news_cat_class_5_under, news_cat_class_6_under, news_cat_class_7_under, news_cat_class_8_under, news_cat_class_9_under], axis=0)\n",
    "\n",
    "print('Random under-sampling:')\n",
    "print(news_cat_test_under.Kategorie.value_counts())\n",
    "\n",
    "news_cat_test_under.Kategorie.value_counts().plot(kind='bar', title='Count (target)');\n",
    "\n",
    "text_train_cat, text_test_cat, y_train_cat, y_test_cat = train_test_split(news_cat_test_under[\"Titel\"]+news_cat_test_under[\"Body\"], news_cat_test_under[\"Kategorie\"], test_size=0.2, random_state=42)\n",
    "y_train_cat.value_counts()"
   ]
  },
  {
   "cell_type": "code",
   "execution_count": 71,
   "metadata": {},
   "outputs": [
    {
     "data": {
      "text/html": [
       "<div>\n",
       "<style scoped>\n",
       "    .dataframe tbody tr th:only-of-type {\n",
       "        vertical-align: middle;\n",
       "    }\n",
       "\n",
       "    .dataframe tbody tr th {\n",
       "        vertical-align: top;\n",
       "    }\n",
       "\n",
       "    .dataframe thead th {\n",
       "        text-align: right;\n",
       "    }\n",
       "</style>\n",
       "<table border=\"1\" class=\"dataframe\">\n",
       "  <thead>\n",
       "    <tr style=\"text-align: right;\">\n",
       "      <th></th>\n",
       "      <th>index</th>\n",
       "      <th>id</th>\n",
       "      <th>url</th>\n",
       "      <th>Titel</th>\n",
       "      <th>Body</th>\n",
       "      <th>Kategorie</th>\n",
       "      <th>Datum</th>\n",
       "      <th>Quelle</th>\n",
       "      <th>Fake</th>\n",
       "      <th>Body_length</th>\n",
       "    </tr>\n",
       "  </thead>\n",
       "  <tbody>\n",
       "    <tr>\n",
       "      <th>0</th>\n",
       "      <td>5410</td>\n",
       "      <td>778742</td>\n",
       "      <td>https://de.reuters.com/article/deutschland-t-r...</td>\n",
       "      <td>Deutschland verschärft Reisehinweise für Türkei</td>\n",
       "      <td>Deutschland hat seine Sicherheitshinweise für ...</td>\n",
       "      <td>Inland</td>\n",
       "      <td>2017-07-20 00:00:00</td>\n",
       "      <td>Reuters</td>\n",
       "      <td>0</td>\n",
       "      <td>106.0</td>\n",
       "    </tr>\n",
       "    <tr>\n",
       "      <th>1</th>\n",
       "      <td>43316</td>\n",
       "      <td>817169</td>\n",
       "      <td>https://www.pressetext.com/news/20140919005</td>\n",
       "      <td>Tenor John Thade singt Classic Broadway und Op...</td>\n",
       "      <td>Neue DVD schon im Handel - Von Franz Lehár bis...</td>\n",
       "      <td>Leben</td>\n",
       "      <td>2014-09-19 00:00:00</td>\n",
       "      <td>Pressetext</td>\n",
       "      <td>0</td>\n",
       "      <td>420.0</td>\n",
       "    </tr>\n",
       "    <tr>\n",
       "      <th>2</th>\n",
       "      <td>38909</td>\n",
       "      <td>812731</td>\n",
       "      <td>https://www.pressetext.com/news/20170315001</td>\n",
       "      <td>Handys und Co fördern Altersdiabetes bei Kindern</td>\n",
       "      <td>Täglich drei Stunden vor dem Bildschirm begüns...</td>\n",
       "      <td>Leben</td>\n",
       "      <td>2017-03-15 00:00:00</td>\n",
       "      <td>Pressetext</td>\n",
       "      <td>0</td>\n",
       "      <td>299.0</td>\n",
       "    </tr>\n",
       "    <tr>\n",
       "      <th>3</th>\n",
       "      <td>9186</td>\n",
       "      <td>782546</td>\n",
       "      <td>https://de.reuters.com/article/japan-industrie...</td>\n",
       "      <td>Japans Industrieproduktion steigt im November</td>\n",
       "      <td>Die japanische Industrieproduktion ist im Nove...</td>\n",
       "      <td>Wirtschaft</td>\n",
       "      <td>2016-12-28 00:00:00</td>\n",
       "      <td>Reuters</td>\n",
       "      <td>0</td>\n",
       "      <td>78.0</td>\n",
       "    </tr>\n",
       "    <tr>\n",
       "      <th>4</th>\n",
       "      <td>57992</td>\n",
       "      <td>831972</td>\n",
       "      <td>https://www.pressetext.com/news/20081206006</td>\n",
       "      <td>Ausgefallene Weihnachtsgeschenke aus dem Web</td>\n",
       "      <td>pressetext durchstöbert Onlineshops mit kreati...</td>\n",
       "      <td>Medien</td>\n",
       "      <td>2008-06-12 00:00:00</td>\n",
       "      <td>Pressetext</td>\n",
       "      <td>0</td>\n",
       "      <td>498.0</td>\n",
       "    </tr>\n",
       "  </tbody>\n",
       "</table>\n",
       "</div>"
      ],
      "text/plain": [
       "   index      id                                                url  \\\n",
       "0   5410  778742  https://de.reuters.com/article/deutschland-t-r...   \n",
       "1  43316  817169        https://www.pressetext.com/news/20140919005   \n",
       "2  38909  812731        https://www.pressetext.com/news/20170315001   \n",
       "3   9186  782546  https://de.reuters.com/article/japan-industrie...   \n",
       "4  57992  831972        https://www.pressetext.com/news/20081206006   \n",
       "\n",
       "                                               Titel  \\\n",
       "0    Deutschland verschärft Reisehinweise für Türkei   \n",
       "1  Tenor John Thade singt Classic Broadway und Op...   \n",
       "2   Handys und Co fördern Altersdiabetes bei Kindern   \n",
       "3      Japans Industrieproduktion steigt im November   \n",
       "4       Ausgefallene Weihnachtsgeschenke aus dem Web   \n",
       "\n",
       "                                                Body   Kategorie  \\\n",
       "0  Deutschland hat seine Sicherheitshinweise für ...      Inland   \n",
       "1  Neue DVD schon im Handel - Von Franz Lehár bis...       Leben   \n",
       "2  Täglich drei Stunden vor dem Bildschirm begüns...       Leben   \n",
       "3  Die japanische Industrieproduktion ist im Nove...  Wirtschaft   \n",
       "4  pressetext durchstöbert Onlineshops mit kreati...      Medien   \n",
       "\n",
       "                 Datum      Quelle  Fake  Body_length  \n",
       "0  2017-07-20 00:00:00     Reuters     0        106.0  \n",
       "1  2014-09-19 00:00:00  Pressetext     0        420.0  \n",
       "2  2017-03-15 00:00:00  Pressetext     0        299.0  \n",
       "3  2016-12-28 00:00:00     Reuters     0         78.0  \n",
       "4  2008-06-12 00:00:00  Pressetext     0        498.0  "
      ]
     },
     "execution_count": 71,
     "metadata": {},
     "output_type": "execute_result"
    }
   ],
   "source": [
    "# shuffle the data\n",
    "news_cat_test_under = news_cat_test_under.sample(frac=1).reset_index(drop=True)\n",
    "news_cat_test_under.head()"
   ]
  },
  {
   "cell_type": "markdown",
   "metadata": {},
   "source": [
    "### Vectorize Text "
   ]
  },
  {
   "cell_type": "code",
   "execution_count": 72,
   "metadata": {},
   "outputs": [],
   "source": [
    "vect_cat = CountVectorizer(ngram_range=(1, 2),stop_words=None,lowercase=True,max_df=0.8, min_df=20)\n",
    "tfidf = TfidfTransformer()"
   ]
  },
  {
   "cell_type": "code",
   "execution_count": 73,
   "metadata": {},
   "outputs": [
    {
     "name": "stdout",
     "output_type": "stream",
     "text": [
      "13901\n"
     ]
    }
   ],
   "source": [
    "pipe_lr.fit(text_train_cat, y_train_cat)\n",
    "print(len(vect.vocabulary_))"
   ]
  },
  {
   "cell_type": "code",
   "execution_count": 74,
   "metadata": {},
   "outputs": [],
   "source": [
    "text_transform_train_cat = pipe_lr.transform(text_train_cat).toarray();\n",
    "text_transform_test_cat = pipe_lr.transform(text_test_cat).toarray();"
   ]
  },
  {
   "cell_type": "markdown",
   "metadata": {
    "colab_type": "text",
    "id": "qA1CFn8D2jAf"
   },
   "source": [
    "# Predictive modelling\n",
    "\n",
    "## Fake vs. no-Fake Prediction\n",
    "\n",
    "* Predict whether an article is fake or not. This is a binary classification.\n",
    "* A set of different models and metrics is considered."
   ]
  },
  {
   "cell_type": "code",
   "execution_count": 43,
   "metadata": {},
   "outputs": [],
   "source": [
    "# Define a list of possible models\n",
    "clfs = [LogisticRegression(solver=\"lbfgs\", random_state=42)\n",
    "       , KNeighborsClassifier(n_neighbors= 15)#\n",
    "       , GaussianNB()\n",
    "       , SVC(C=10, random_state=42, gamma=0.001)#C=1, kernel=\"rbf\", gamma='scale', random_state=42)\n",
    "       , LinearSVC(random_state=42)\n",
    "       , RandomForestClassifier(n_estimators=500, criterion=\"gini\", max_depth=5, random_state=42)\n",
    "       , AdaBoostClassifier(random_state=42)\n",
    "       , XGBClassifier(random_state=42)]"
   ]
  },
  {
   "cell_type": "code",
   "execution_count": 44,
   "metadata": {},
   "outputs": [],
   "source": [
    "# Function that performs cross validation and returns the desired metric(s)\n",
    "# The metrics are stored in a dictionary\n",
    "def model_evaluation_cv(X_train, y_train, clf, params_model=None, \n",
    "                     params_cross={\"cv\":5, \"scoring\":['accuracy','precision','recall','roc_auc','f1']}):\n",
    "    # cross validation\n",
    "    scores = cross_validate(clf, X_train, y_train, **params_cross)\n",
    "    #print(scores)\n",
    "    # return the list of all dictionary keys with mean values (mean over metrics from folds) \n",
    "    scores = {key: value.mean() for (key, value) in scores.items()}\n",
    "\n",
    "    return scores"
   ]
  },
  {
   "cell_type": "code",
   "execution_count": 45,
   "metadata": {},
   "outputs": [
    {
     "name": "stdout",
     "output_type": "stream",
     "text": [
      "LogisticRegression\n",
      "KNeighborsClassifier\n",
      "GaussianNB\n",
      "SVC\n",
      "LinearSVC\n",
      "RandomForestClassifier\n",
      "AdaBoostClassifier\n",
      "XGBClassifier\n",
      "{'LogisticRegression': {'fit_time': 4.348555183410644, 'score_time': 0.07071919441223144, 'test_accuracy': 0.9766306549628629, 'test_precision': 0.9689506130933433, 'test_recall': 0.9848852901484481, 'test_roc_auc': 0.9958513867145731, 'test_f1': 0.976846364689704}, 'KNeighborsClassifier': {'fit_time': 13.407655000686646, 'score_time': 650.7622420787811, 'test_accuracy': 0.8880166797452415, 'test_precision': 0.9371396593485137, 'test_recall': 0.8321187584345479, 'test_roc_auc': 0.9604253102351527, 'test_f1': 0.8814093904602125}, 'GaussianNB': {'fit_time': 1.8456000804901123, 'score_time': 0.6810628414154053, 'test_accuracy': 0.9286775735897951, 'test_precision': 0.9318444289677646, 'test_recall': 0.9252361673414304, 'test_roc_auc': 0.9286676258416163, 'test_f1': 0.9284803000515547}, 'SVC': {'fit_time': 804.660808801651, 'score_time': 400.4795466423035, 'test_accuracy': 0.9489390842564374, 'test_precision': 0.9308666030207785, 'test_recall': 0.9700404858299596, 'test_roc_auc': 0.9846946150129684, 'test_f1': 0.9500429843618422}, 'LinearSVC': {'fit_time': 0.8234425544738769, 'score_time': 0.12589244842529296, 'test_accuracy': 0.9873024070660803, 'test_precision': 0.9829014942085447, 'test_recall': 0.9919028340080971, 'test_roc_auc': 0.9989520226454918, 'test_f1': 0.9873741591381748}, 'RandomForestClassifier': {'fit_time': 16.84996771812439, 'score_time': 0.30183043479919436, 'test_accuracy': 0.9605560523386316, 'test_precision': 0.9608666356680932, 'test_recall': 0.9603238866396762, 'test_roc_auc': 0.9934349543508436, 'test_f1': 0.9605838625968331}, 'AdaBoostClassifier': {'fit_time': 83.15135931968689, 'score_time': 4.502199792861939, 'test_accuracy': 0.9633927039801449, 'test_precision': 0.9638507913807363, 'test_recall': 0.9630229419703105, 'test_roc_auc': 0.9947430848367393, 'test_f1': 0.9634032073838975}, 'XGBClassifier': {'fit_time': 176.4978349685669, 'score_time': 4.724560880661011, 'test_accuracy': 0.9733885066700732, 'test_precision': 0.9690043090151919, 'test_recall': 0.9781376518218623, 'test_roc_auc': 0.9967017564588965, 'test_f1': 0.9735301105353962}}\n"
     ]
    }
   ],
   "source": [
    "# Perform the model evaluation for all models in clf and cross folds\n",
    "# Save the results in a dictionary, as follows: results ={'clf': {metrics}}\n",
    "#kfold=5\n",
    "results = {}\n",
    "for clf in clfs:\n",
    "    clf_name = clf.__class__.__name__\n",
    "    print(clf_name)\n",
    "    scores = model_evaluation_cv(X_train = text_transform_train, y_train = y_train, clf = clf)\n",
    "    results[clf_name] = scores        \n",
    "print(results)"
   ]
  },
  {
   "cell_type": "code",
   "execution_count": 46,
   "metadata": {},
   "outputs": [],
   "source": [
    "# Function for the plots\n",
    "# \"results\" is the dictionary containing the scores\n",
    "# Remember: results = {'clf': {'cross_fold': {metrics}}\n",
    "\n",
    "def plot_results(scores_mean, legend_labels, title='Model Comparison'):\n",
    "    width = 0.5\n",
    "    fig, ax = plt.subplots(figsize=(10,8))\n",
    "    ax.set_facecolor((1.0, 250/255, 234/255))\n",
    "    clfs = list(scores_mean.keys())\n",
    "    x = np.arange(0, (len(clfs)+1)*(len(legend_labels)-2), len(clfs)+1)\n",
    "    for clf in clfs:        \n",
    "        score_list = []\n",
    "        x+=1\n",
    "        for score in scores_mean[clf]:\n",
    "            if (score!=\"fit_time\") and (score!=\"score_time\"):\n",
    "                #score_list contains all scores for one model\n",
    "                score_list.append(scores_mean[clf][score])\n",
    "        rects1 = ax.bar(x - width/2, score_list, width, label=clf, alpha=1)\n",
    "        ax.set_ylabel('score')\n",
    "        ax.set_title(title)\n",
    "        ax.set_ylim(0.5,1)\n",
    "        ax.set_xticks(x-len(clfs)/2)\n",
    "        ax.set_xticklabels(score_labels[2:])\n",
    "        ax.legend(loc='upper center', bbox_to_anchor=(0.5, 1.0), ncol=3, fancybox=True)"
   ]
  },
  {
   "cell_type": "code",
   "execution_count": 47,
   "metadata": {},
   "outputs": [
    {
     "data": {
      "image/png": "[encoded data removed]",
      "text/plain": [
       "<Figure size 720x576 with 1 Axes>"
      ]
     },
     "metadata": {
      "needs_background": "light"
     },
     "output_type": "display_data"
    }
   ],
   "source": [
    "score_labels = [\"fit time\", \"score time\", \"accuracy\", \"precision\", \"recall\", \"roc auc score\", \"f1 score\"]\n",
    "plot_results(results, score_labels)"
   ]
  },
  {
   "cell_type": "markdown",
   "metadata": {},
   "source": [
    "All models show high values for the different metrics. Highest values shows the LinearSVC, which was also used in the medium article this work was inspired by. As values are already very high, no hyperparameter tuning is done."
   ]
  },
  {
   "cell_type": "markdown",
   "metadata": {},
   "source": [
    "### Make Predictions\n",
    "\n",
    "* Use the LinearSVC to make predictions and calculate evaluating metrics"
   ]
  },
  {
   "cell_type": "code",
   "execution_count": 54,
   "metadata": {},
   "outputs": [
    {
     "data": {
      "text/plain": [
       "LinearSVC(C=1.0, class_weight=None, dual=True, fit_intercept=True,\n",
       "          intercept_scaling=1, loss='squared_hinge', max_iter=1000,\n",
       "          multi_class='ovr', penalty='l2', random_state=42, tol=0.0001,\n",
       "          verbose=0)"
      ]
     },
     "execution_count": 54,
     "metadata": {},
     "output_type": "execute_result"
    }
   ],
   "source": [
    "model_fake_no_fake = LinearSVC(random_state=42)\n",
    "model_fake_no_fake"
   ]
  },
  {
   "cell_type": "code",
   "execution_count": 56,
   "metadata": {},
   "outputs": [
    {
     "data": {
      "text/plain": [
       "Pipeline(memory=None,\n",
       "         steps=[('vect',\n",
       "                 CountVectorizer(analyzer='word', binary=False,\n",
       "                                 decode_error='strict',\n",
       "                                 dtype=<class 'numpy.int64'>, encoding='utf-8',\n",
       "                                 input='content', lowercase=True, max_df=0.8,\n",
       "                                 max_features=None, min_df=20,\n",
       "                                 ngram_range=(1, 2), preprocessor=None,\n",
       "                                 stop_words=None, strip_accents=None,\n",
       "                                 token_pattern='(?u)\\\\b\\\\w\\\\w+\\\\b',\n",
       "                                 tokenizer=None, vocabulary=None)),\n",
       "                ('tfidf',\n",
       "                 TfidfTransformer(norm='l2', smooth_idf=True,\n",
       "                                  sublinear_tf=False, use_idf=True)),\n",
       "                ('clf',\n",
       "                 LinearSVC(C=1.0, class_weight=None, dual=True,\n",
       "                           fit_intercept=True, intercept_scaling=1,\n",
       "                           loss='squared_hinge', max_iter=1000,\n",
       "                           multi_class='ovr', penalty='l2', random_state=42,\n",
       "                           tol=0.0001, verbose=0))],\n",
       "         verbose=False)"
      ]
     },
     "execution_count": 56,
     "metadata": {},
     "output_type": "execute_result"
    }
   ],
   "source": [
    "pipe_clf = Pipeline([\n",
    "    ('vect',vect),\n",
    "    ('tfidf',tfidf),\n",
    "    ('clf',model_fake_no_fake)\n",
    "    ])\n",
    "pipe_clf.fit(text_train, y_train)"
   ]
  },
  {
   "cell_type": "code",
   "execution_count": 59,
   "metadata": {},
   "outputs": [],
   "source": [
    "y_pred  = pipe_clf.predict(text_test)"
   ]
  },
  {
   "cell_type": "code",
   "execution_count": 61,
   "metadata": {},
   "outputs": [
    {
     "name": "stdout",
     "output_type": "stream",
     "text": [
      "test accuracy: 0.99\n",
      "precision: 0.99\n",
      "recall: 1.00\n",
      "f1: 0.99\n"
     ]
    }
   ],
   "source": [
    "# calculate scores\n",
    "print('test accuracy: {:.2f}'.format(accuracy_score(y_true=y_test, y_pred=y_pred)))\n",
    "print('precision: {:.2f}'.format(precision_score(y_true=y_test, y_pred=y_pred)))\n",
    "print('recall: {:.2f}'.format(recall_score(y_true=y_test, y_pred=y_pred)))\n",
    "print('f1: {:.2f}'.format(f1_score(y_true=y_test, y_pred=y_pred)))"
   ]
  },
  {
   "cell_type": "markdown",
   "metadata": {},
   "source": [
    "##  Category Prediction\n",
    "\n",
    "* Predict to which category an article belongs. In this case we have 10 classes and therefore a multiple classification.\n",
    "* A set of different models and metrics is considered.\n",
    "* Reduce the set of models and metrics, as not all are suitable for multi-class classification."
   ]
  },
  {
   "cell_type": "code",
   "execution_count": null,
   "metadata": {},
   "outputs": [],
   "source": [
    "# Function that performs cross validation and returns the desired metric(s) for multiclass classification\n",
    "# The metrics are stored in a dictionary\n",
    "def model_evaluation_mc(X_train, y_train, clf, params_model=None, \n",
    "                     params_cross={\"cv\":5, \"scoring\":['precision_macro','recall_macro','roc_auc_macro','f1_macro']}):\n",
    "    # cross validation\n",
    "    scores = cross_validate(clf, X_train, y_train, **params_cross)\n",
    "    #print(scores)\n",
    "    # return the list of all dictionary keys with mean values (mean over metrics from folds) \n",
    "    scores = {key: value.mean() for (key, value) in scores.items()}\n",
    "\n",
    "    return scores"
   ]
  },
  {
   "cell_type": "code",
   "execution_count": null,
   "metadata": {},
   "outputs": [],
   "source": [
    "# Perform the model evaluation for all models in clf and cross folds for multiclass classification\n",
    "# Save the results in a dictionary, as follows: results ={'clf': {metrics}}\n",
    "#kfold=5\n",
    "results = {}\n",
    "for clf in clfs:\n",
    "    clf_name = clf.__class__.__name__\n",
    "    print(clf_name)\n",
    "    scores = model_evaluation_mc(X_train = text_transform_train, y_train = y_train, clf = clf)\n",
    "    results[clf_name] = scores        \n",
    "print(results)"
   ]
  },
  {
   "cell_type": "code",
   "execution_count": null,
   "metadata": {},
   "outputs": [],
   "source": [
    "#for clf in clfs:\n",
    "pipe_lr = Pipeline([\n",
    "    ('vect',vect),\n",
    "    ('tfidf',tfidf),\n",
    "    ('clf',clf)\n",
    "    ])\n",
    "pipe_lr.fit(text_train, y_train)\n",
    "print(len(vect.vocabulary_))"
   ]
  },
  {
   "cell_type": "markdown",
   "metadata": {
    "colab_type": "text",
    "id": "voMeEzGf2jAg"
   },
   "source": [
    "# Visualization"
   ]
  },
  {
   "cell_type": "markdown",
   "metadata": {
    "colab_type": "text",
    "id": "Z3h8-Uvj2jAg"
   },
   "source": [
    "# Future Work"
   ]
  },
  {
   "cell_type": "markdown",
   "metadata": {
    "colab": {},
    "colab_type": "code",
    "id": "fEPOeDnz2jAi"
   },
   "source": [
    "* Predict for each category whther it is a fake article or not.\n",
    "* Get more data.\n",
    "* Is it possible to analyse the (German) texts for a gender bias?"
   ]
  }
 ],
 "metadata": {
  "colab": {
   "collapsed_sections": [],
   "name": "Copy of Project_News_Categorization.ipynb",
   "provenance": [
    {
     "file_id": "1_VHl_J4_Ey6gim7oV8g9fcynq4DzULSw",
     "timestamp": 1587072007247
    }
   ]
  },
  "kernelspec": {
   "display_name": "Python 3",
   "language": "python",
   "name": "python3"
  },
  "language_info": {
   "codemirror_mode": {
    "name": "ipython",
    "version": 3
   },
   "file_extension": ".py",
   "mimetype": "text/x-python",
   "name": "python",
   "nbconvert_exporter": "python",
   "pygments_lexer": "ipython3",
   "version": "3.7.6"
  },
  "toc": {
   "base_numbering": 1,
   "nav_menu": {},
   "number_sections": true,
   "sideBar": true,
   "skip_h1_title": false,
   "title_cell": "Table of Contents",
   "title_sidebar": "Contents",
   "toc_cell": false,
   "toc_position": {},
   "toc_section_display": true,
   "toc_window_display": false
  }
 },
 "nbformat": 4,
 "nbformat_minor": 1
}
